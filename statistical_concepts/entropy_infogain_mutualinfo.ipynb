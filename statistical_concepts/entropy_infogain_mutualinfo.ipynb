{
 "cells": [
  {
   "cell_type": "markdown",
   "id": "d7f33ebf",
   "metadata": {},
   "source": [
    "# Entropy, Information Gain, Mutual Information\n",
    "\n",
    "Outline:\n",
    "1. What is Surprise / Information + some examples\n",
    "2. Entropy and how it connects with Surprise / Information\n",
    "3. Information Gain, how it's used in decision tree classification\n",
    "4. Mutual Information\n",
    "5. Measures of divergence between two probability distributions: Kullback-Leibler (Relative entropy) and Jensen-Shannon\n",
    "6. Calculating Mutual Information using KL Divergence, proof it yields the same result with using Entropy\n",
    "7. An example for Mutual Information\n",
    "\n",
    "Summary:\n",
    "- Surprise is the logged inverse of probability. Also called Information, knowing about rarer events has more value compared to knowing about more common events\n",
    "- Entropy is the expected value of surprise\n",
    "- Entropy is a measure of heterogeneity\n",
    "    - Thus reducing entropy is important in Decision Trees to have a classifier **that aims to completely separate** class A from class B\n",
    "- Information gain is the expected reduction in entropy after a change in the dataset. For decision tree classification, the \"change\" is splitting the dataset into subsets\n",
    "- Divergence measures can be also used for evaluating how good a distribution approximates another distribution\n",
    "- Mutual information is the information a random variable conveys about the other. In other words, mutual dependence\n",
    "    - It can be calculated using the KL Divergence of the joint distribution and the product of the marginals as well\n",
    "\n",
    "Sources and additional reading:  \n",
    "Josh Starmer - StatQuest for the definition of entropy  \n",
    "[Shannon's Information Theory Paper](https://people.math.harvard.edu/~ctm/home/text/others/shannon/entropy/entropy.pdf)  \n",
    "Jason Browlee - Machine Learning Mastery for information gain  \n",
    "[Dr. Yao Xie - Entropy and Mutual Information](https://www2.isye.gatech.edu/~yxie77/ece587/Lecture2.pdf)"
   ]
  },
  {
   "cell_type": "markdown",
   "id": "f3482151",
   "metadata": {},
   "source": [
    "---"
   ]
  },
  {
   "cell_type": "markdown",
   "id": "e1038e91",
   "metadata": {},
   "source": [
    "## What is \"surprise\"?\n",
    "\n",
    "Say we have three patios A, B, C containing blue and orange chickens. Numbers are:  \n",
    "A: 6 Orange, 1 Blue  \n",
    "B: 1 Orange, 10 Blue  \n",
    "C: 7 Orange, 7 Blue\n",
    "\n",
    "Picking an orange chicken from A wouldn't be a surprise. Picking a blue chicken from A would be relatively surprising.  \n",
    "For C, both are equally likely, so choosing either would not be surprising.\n",
    "\n",
    "**Surprise is somewhat the inverse of probability**\n",
    "\n",
    "It is also called Shannon Information / Self-Information /  Information. Intuition behind the Information Theory says, **learning a rare event is more informative than learning a common event.** Rare events are more uncertain / more surprising, so they require more information to represent them than common events.  \n",
    "\n",
    "Given there's a one-in-a-million chance of your friend Tina winning the lottery, knowing that Tina won the lottery is definitely more informative than knowing that Tina lost the lottery. "
   ]
  },
  {
   "cell_type": "markdown",
   "id": "c8da0035",
   "metadata": {},
   "source": [
    "### Calculating Surprise\n",
    "\n",
    "We said surprise is the inverse of probability, so can we say `Surprise = 1 / Probability`?  **No.**  \n",
    "Imagine a coin flip experiment resulting in Heads every time, `Surprise(Heads) = 1 / P(Heads) = 1` doesn't make sense. We would expect it to be 0.\n",
    "\n",
    "What about **`Surprise = log_b(1 / Probability)`**, where b = 2 if we measure entropy in bits?  \n",
    "This makes `Surprise(Heads) = 0`, and `Surprise(Tails) = Undefined` for the experiment above. \"Undefined\" for Tails is OK, because it's the surprise of something that never happens"
   ]
  },
  {
   "cell_type": "markdown",
   "id": "67154caf",
   "metadata": {},
   "source": [
    "### Example: One coin toss\n",
    "\n",
    "Given P(Heads) = 0.9 and P(Tails) = 0.1, calculating surprise for both:\n",
    "\n",
    "`Surprise(Heads) = log2(1 / P(Heads)) = 0.15`  \n",
    "`Surprise(Tails) = log2(1 / P(Tails)) = 3.32`\n",
    "\n",
    "### Example: Sequence of coin tosses\n",
    "\n",
    "Given the probabilities above, calculate the surprise for a HHT outcome:\n",
    "\n",
    "`Surprise(HHT) = log2(1 / (P(Heads) * P(Heads) * P(Tails))) = - (log2(P(Heads)) + log2(P(Heads)) + log2(P(Tails)))`  \n",
    "` = 3.62`\n",
    "\n",
    "Observe that the **surprise of the sequence is the sum of the surprises for each individual experiment**"
   ]
  },
  {
   "cell_type": "markdown",
   "id": "41a7661f",
   "metadata": {},
   "source": [
    "---"
   ]
  },
  {
   "cell_type": "markdown",
   "id": "de01e385",
   "metadata": {},
   "source": [
    "## How Surprise connects to Entropy\n",
    "\n",
    "If we wanted to calculate the entire surprise of the coin, we would do `Surprise(Heads) * P(Heads) + Surprise(Tails) * P(Tails)`   \n",
    "The \"entire surprise of the coin\" is Entropy, **Entropy is the expected value of surprise.**\n",
    "\n",
    "Thus Entropy = `-sum(P(x) * log2(P(x)) for x € X)`. Notice how the log2 of inverse-probability is simplified."
   ]
  },
  {
   "cell_type": "markdown",
   "id": "ee5ea540",
   "metadata": {},
   "source": [
    "### Example: Patios A, B, C\n",
    "\n",
    "The entropies are respectively 0.59, 0.44, 1.0.  \n",
    "`Entropy = P(Orange) * Surprise(Orange) + P(Blue) * Surprise(Blue)`  \n",
    "`Entropy(A) = (0.86 * 0.22 + 0.14 * 2.80)`  \n",
    "`Entropy(B) = (0.09 * 3.46 + 0.91 * 0.14)`  \n",
    "`Entropy(C) = (0.50 * 1.00 + 0.50 * 1.00)`\n",
    "\n",
    "**Interpreting the results:**\n",
    "\n",
    "Entropy(A) < Entropy(B): B has a lower probability for the more surprising outcome  \n",
    "Entropy(C) = 1: Even the surprise values are relatively moderate, high probability for both made the entropy 1.  \n",
    "**Entropy increases when heterogeneity increases**"
   ]
  },
  {
   "cell_type": "markdown",
   "id": "9c947e51",
   "metadata": {},
   "source": [
    "### Joint Entropy\n",
    "\n",
    "Nothing new, calculated from the definition:  \n",
    "`H(X, Y) = -sum(P(x, y) * log2(P(x, y)) for x € X, y € Y)`"
   ]
  },
  {
   "cell_type": "markdown",
   "id": "0b88c3e1",
   "metadata": {},
   "source": [
    "### Conditional Entropy\n",
    "\n",
    "Entropy of a rv given another rv.\n",
    "\n",
    "If `(X, Y) ~ P(x, y)` then    \n",
    "`H(Y | X) = sum(P(x, y) * log2(P(x) / P(x, y)) for x € X, y € Y)`\n",
    "\n",
    "Proof:  \n",
    "`H(Y | X) = sum(P(x) * H(Y | X = x) for x € X)`  \n",
    "`H(Y | X) = -sum(P(x) * sum(P(y | x) * log2(P(y | x)) for y € Y) for x € X)`  \n",
    "`H(Y | X) = -sum(P(x, y) * log2(P(y | x)) for x € X, y € Y)` by Chain rule  \n",
    "`H(Y | X) = -sum(P(x, y) * log2(P(x, y) / P(x)) for x € X, y € Y)`  \n",
    "`H(Y | X) = sum(P(x, y) * log2(P(x) / P(x, y)) for x € X, y € Y)`"
   ]
  },
  {
   "cell_type": "markdown",
   "id": "c4829db2",
   "metadata": {},
   "source": [
    "### Chain Rule for Entropy\n",
    "\n",
    "Entropy of a pair of rvs: Entropy of one + conditional entropy of the other:  \n",
    "`H(Y | X) = H(X, Y) - H(X)`  \n",
    "`H(X | Y) = H(X, Y) - H(Y)`\n",
    "\n",
    "Proof:  \n",
    "`H(Y | X) = -sum(P(x, y) * log2(P(x, y))) + -sum(P(x) * log2(1 / P(x))`  \n",
    "`H(Y | X) = -sum(P(x, y) * log2(P(x, y) / P(x)))`"
   ]
  },
  {
   "cell_type": "markdown",
   "id": "f6368d67",
   "metadata": {},
   "source": [
    "---"
   ]
  },
  {
   "cell_type": "markdown",
   "id": "27c104a3",
   "metadata": {},
   "source": [
    "## Information Gain (IG)\n",
    "\n",
    "**Informal Definition:** Expected reduction in entropy after a change in the dataset. For decision tree classification, the \"change\" may be splitting a dataset depending on the value of a feature\n",
    "\n",
    "By definition, Information Gain is: `IG(S, a) = H(S) - H(S | a)` in \"bits\" units. S is the dataset, a is the feature.\n",
    "\n",
    "The conditional entropy `H(S | a)` is the expected value of entropies after the split.  \n",
    "Say we split S into subsets S1, ..., SN depending on some value v of a.  \n",
    "`H(S | a) = sum(|Si| / |S| * H(Si))`\n",
    "\n",
    "**Information Gain is also used in ID3 algorithm. If the Information Gain is smaller than some value, the algorithm stops splitting at that node.**"
   ]
  },
  {
   "cell_type": "markdown",
   "id": "3087e1ce",
   "metadata": {},
   "source": [
    "### Calculating Information Gain\n",
    "\n",
    "Say we have a dataset S of 13 Orange, 7 Blue chicken. Our algorithm splits this dataset into two different subsets S1, S2. One subset has 7 Orange, 1 Blue chicken; the other has 6 Orange, 6 Blue chicken."
   ]
  },
  {
   "cell_type": "code",
   "execution_count": 1,
   "id": "683299d3",
   "metadata": {},
   "outputs": [
    {
     "name": "stdout",
     "output_type": "stream",
     "text": [
      "Entropy of S: 0.93407 bits, Entropy of S1: 0.54356 bits, Entropy of S2: 1.0 bits\n",
      "Weighted sum of entropies after the split: 0.81743 bits\n",
      "Information Gain: 0.11664 bits\n"
     ]
    }
   ],
   "source": [
    "from math import log2\n",
    "\n",
    "def entropy(subset0, subset1):\n",
    "    # for binary classification\n",
    "    return -(subset0 * log2(subset0) + subset1 * log2(subset1))\n",
    "\n",
    "def information_gain(num_s, entropy_s, num_s1, entropy_s1, num_s2, entropy_s2):\n",
    "    # for binary classification\n",
    "    return entropy_s - ((num_s1 / num_s) * entropy_s1 + (num_s2 / num_s) * entropy_s2)\n",
    "    \n",
    "\n",
    "# entropy of the dataset S before the split\n",
    "entropy_S = entropy(13 / 20, 7 / 20)\n",
    "\n",
    "# entropies of subsets S1, S2 after the split\n",
    "entropy_S1 = entropy(7 / 8, 1 / 8)\n",
    "entropy_S2 = entropy(6 / 12, 6 / 12)\n",
    "\n",
    "# information gain\n",
    "IG = information_gain(20, entropy_S, 8, entropy_S1, 12, entropy_S2)\n",
    "\n",
    "print(f\"Entropy of S: {round(entropy_S, 5)} bits, Entropy of S1: {round(entropy_S1, 5)} bits, \"\n",
    "      f\"Entropy of S2: {round(entropy_S2, 5)} bits\")\n",
    "print(f\"Weighted sum of entropies after the split: {round(-IG + entropy_S, 5)} bits\")\n",
    "print(f\"Information Gain: {round(IG, 5)} bits\")"
   ]
  },
  {
   "cell_type": "markdown",
   "id": "280a205a",
   "metadata": {},
   "source": [
    "---"
   ]
  },
  {
   "cell_type": "markdown",
   "id": "e599b997",
   "metadata": {},
   "source": [
    "## Mutual Information (MI)\n",
    "\n",
    "**Informal Definition:** Average reduction in uncertainty for random variable (rv) X that results from knowing rv Y. In other words, the average amount of information that X conveys about Y.\n",
    "\n",
    "By definition, Mutual Information is: `I(X; Y) = H(X) - H(X | Y) = H(Y) - H(Y | X)` in \"bits\" units.   \n",
    "**Observe that it is the same with Information Gain.**  \n",
    "\n",
    "By the chain rule, `I(X; Y) = H(X) + H(Y) - H(X, Y)` is also valid.\n",
    "\n",
    "MI is a measure of dependence (mutual dependence) between two rvs. So MI is symmetrical, `I(X; Y) = I(Y; X)`.\n",
    "\n",
    "\n",
    "**A nice Venn diagram showing what Mutual Information is:**\n",
    "![](mutual_info.PNG)"
   ]
  },
  {
   "cell_type": "markdown",
   "id": "c102397e",
   "metadata": {},
   "source": [
    "### What is Relative Entropy a.k.a Kullback-Leiber (KL) Divergence?\n",
    "\n",
    "KL Divergence quantifies how much one probability distribution differs from another.  \n",
    "`KL(P || Q)` denotes the P's divergence from Q.\n",
    "\n",
    "`KL(P || Q) = sum(P(x) * log2(P(x) / Q(x)) for x € X)`\n",
    "\n",
    "Intuition is: When probability for an event from P is large, but the probability for the same event in Q is small, there is a large divergence. When probability from P is small and the probability from Q is large, there is also a large divergence, but not as large as the first case.\n",
    "\n",
    "KL divergence is not symmetrical, `KL(P || Q) != KL(Q || P)`\n",
    "\n",
    "If we're to approximate an unknown probability distribution, then the target dist from the data is P, and Q is the approximation of P. In this case, **KL score is the average number of additional bits to represent an event from the random variable.** Better the approximation, lower the KL score."
   ]
  },
  {
   "cell_type": "markdown",
   "id": "99a28720",
   "metadata": {},
   "source": [
    "#### An empirical example for KL Divergence\n",
    "\n",
    "We have a rv X with three events `red, green, blue`. There are two probability distributions for this variable.   \n",
    "`PMF(P) = [red: 0.10, green: 0.40, blue: 0.50]`, and `PMF(Q) = [red: 0.80, green: 0.15, blue: 0.05]`"
   ]
  },
  {
   "cell_type": "code",
   "execution_count": 2,
   "id": "506448d9",
   "metadata": {},
   "outputs": [
    {
     "data": {
      "image/png": "[encoded data removed]",
      "text/plain": [
       "<Figure size 432x288 with 2 Axes>"
      ]
     },
     "metadata": {
      "needs_background": "light"
     },
     "output_type": "display_data"
    }
   ],
   "source": [
    "# plotting the two distributions\n",
    "\n",
    "import numpy as np\n",
    "import matplotlib.pyplot as plt\n",
    "\n",
    "X_events = [\"red\", \"green\", \"blue\"]  # random variable's events\n",
    "P = np.array([0.10, 0.40, 0.50])\n",
    "Q = np.array([0.80, 0.15, 0.05])\n",
    "\n",
    "fig, (ax1, ax2) = plt.subplots(1, 2)\n",
    "fig.suptitle('Distributions P and Q for X_events')\n",
    "\n",
    "ax1.set_title(\"P\")\n",
    "ax1.bar(X_events, P)\n",
    "ax1.set_yticks([num / 10 for num in range(11)])\n",
    "\n",
    "ax2.set_title(\"Q\")\n",
    "ax2.bar(X_events, Q)\n",
    "ax2.set_yticks([num / 10 for num in range(11)])\n",
    "\n",
    "fig.tight_layout()\n",
    "plt.show()"
   ]
  },
  {
   "cell_type": "code",
   "execution_count": 3,
   "id": "47103756",
   "metadata": {},
   "outputs": [
    {
     "name": "stdout",
     "output_type": "stream",
     "text": [
      "If we approximate P with Q: KL(P || Q) = 1.92698 bits\n",
      "If we approximate Q with P: KL(Q || P) = 2.02165 bits\n"
     ]
    }
   ],
   "source": [
    "# calculating the KL Divergence for P and Q\n",
    "\n",
    "def kl_divergence(p, q):\n",
    "    return sum(p[i] * log2(p[i] / q[i]) for i in range(len(p)) if p[i] > 0 and q[i] > 0)\n",
    "\n",
    "print(f\"If we approximate P with Q: KL(P || Q) = {round(kl_divergence(P, Q), 5)} bits\")\n",
    "print(f\"If we approximate Q with P: KL(Q || P) = {round(kl_divergence(Q, P), 5)} bits\")"
   ]
  },
  {
   "cell_type": "markdown",
   "id": "50edf814",
   "metadata": {},
   "source": [
    "KL(Q || P) is obviously higher, because of the case \"If the prob for Q is high and prob for P is low, it's a larger difference than prob for P is high and prob for Q is low\""
   ]
  },
  {
   "cell_type": "markdown",
   "id": "62250538",
   "metadata": {},
   "source": [
    "### Jenssen-Shannon (JS) Divergence\n",
    "\n",
    "The normalized and symmetrical form of KL Divergence.\n",
    "\n",
    "`JS(P || Q) = 0.5 * KL(P || (P + Q) / 2) + 0.5 * KL(Q || (P + Q) / 2)`\n",
    "\n",
    "When the base-2 log is used, it gives a divergence score between 0 (identical) and 1 (totally different).\n",
    "\n",
    "The square-root of the JS score is the JS distance."
   ]
  },
  {
   "cell_type": "markdown",
   "id": "702bb22d",
   "metadata": {},
   "source": [
    "**Applying JS Divergence to the above example:**"
   ]
  },
  {
   "cell_type": "code",
   "execution_count": 4,
   "id": "d29571f5",
   "metadata": {},
   "outputs": [
    {
     "name": "stdout",
     "output_type": "stream",
     "text": [
      "JS divergence: JS(P || Q) = JS(Q || P) = 0.4202 bits\n",
      "JS distance: 0.64823\n"
     ]
    }
   ],
   "source": [
    "def js_divergence(p, q):\n",
    "    m = (p + q) / 2\n",
    "    return 0.5 * kl_divergence(p, m) + 0.5 * kl_divergence(q, m)\n",
    "\n",
    "print(f\"JS divergence: JS(P || Q) = JS(Q || P) = {round(js_divergence(P, Q), 5)} bits\")\n",
    "print(f\"JS distance: {round(js_divergence(P, Q) ** 0.5, 5)}\")"
   ]
  },
  {
   "cell_type": "markdown",
   "id": "128e14f7",
   "metadata": {},
   "source": [
    "### Calculating MI with KL Divergence"
   ]
  },
  {
   "cell_type": "markdown",
   "id": "e8a1cb11",
   "metadata": {},
   "source": [
    "We can calculate MI as the KL Divergence (Relative entropy) of the joint distribution and the product of independent dists. If the KL score is zero, the two dists are totally independent.\n",
    "\n",
    "`I(X; Y) = KL(P(x, y) || P(x) * P(y)) = sum(P(x, y) * log2(P(x, y) / (P(x) * P(y)) for x € X, y € Y)`\n",
    "\n",
    "This yields the same result with the Entropy-related approach.  \n",
    "`I(X; Y) = -sum(P(x, y) * log2(P(x) * P(y) / P(x, y))`  \n",
    "`I(X; Y) = H(P(x) * P(y)) - H(P(x, y))`  \n",
    "`I(X; Y) = H(P(x)) + H(P(y)) - H(P(x, y))`"
   ]
  },
  {
   "cell_type": "markdown",
   "id": "94ca675b",
   "metadata": {},
   "source": [
    "---"
   ]
  },
  {
   "cell_type": "markdown",
   "id": "d0a88c96",
   "metadata": {},
   "source": [
    "## An empirical example combining everything upto now\n",
    "\n",
    "Story: We have the probabilities of blood type + skin cancer risk. Find the Mutual Information between the two.\n",
    "\n",
    "X: Blood type, Y: Skin cancer risk\n",
    "\n",
    "| Skin Cancer Risk | A | B | AB | O |\n",
    "| ----------- | - | - | -- | - |\n",
    "| Very Low | 1/8 | 1/16 | 1/32 | 1/32 |\n",
    "| Low | 1/16 | 1/8 | 1/32 | 1/32 |\n",
    "| Medium | 1/16 | 1/16 | 1/16 | 1/16 |\n",
    "| High | 1/4 | 0 | 0 | 0 |\n",
    "\n",
    "Marginal Probabilities:\n",
    "\n",
    "| Blood Type | Probability |\n",
    "| ---------- | ----------- |\n",
    "| A | 1/2 |\n",
    "| B| 1/4 |\n",
    "| AB | 1/8 |\n",
    "| O | 1/8 |\n",
    "\n",
    "| Skin Cancer Risk | Probability |\n",
    "| ---------- | ----------- |\n",
    "| Very Low | 1/4 |\n",
    "| Low | 1/4 |\n",
    "| Medium | 1/4 |\n",
    "| High | 1/4 |"
   ]
  },
  {
   "cell_type": "markdown",
   "id": "4f27c3bb",
   "metadata": {},
   "source": [
    "Let's find H(X), H(Y), H(X | Y), H(Y | X), H(X, Y)"
   ]
  },
  {
   "cell_type": "code",
   "execution_count": 5,
   "id": "aabe0288",
   "metadata": {},
   "outputs": [
    {
     "name": "stdout",
     "output_type": "stream",
     "text": [
      "H(X) = 1.75 bits\n",
      "H(Y) = 2.0 bits\n",
      "H(X, Y) = 3.375 bits\n",
      "H(X | Y) = 1.375 bits\n",
      "H(Y | X) = 1.625 bits\n",
      "I(X; Y) = 0.375 bits\n"
     ]
    }
   ],
   "source": [
    "X = {\"A\": 1 / 2, \"B\": 1 / 4, \"AB\": 1 / 8, \"O\": 1 / 8}\n",
    "Y = {\"Very Low\": 1 / 4, \"Low\": 1 / 4, \"Medium\": 1 / 4, \"High\": 1 / 4}\n",
    "\n",
    "XY = np.array([\n",
    "    1 / 8, 1 / 16, 1 / 32, 1 / 32,\n",
    "    1 / 16, 1 / 8, 1 / 32, 1 / 32,\n",
    "    1 / 16, 1 / 16, 1 / 16, 1 / 16,\n",
    "    1 / 4, 0, 0, 0\n",
    "])\n",
    "\n",
    "X_product_Y = np.array([x * y for x in X.values() for y in Y.values()])\n",
    "\n",
    "\n",
    "def entropy(probs: list):\n",
    "    return -sum(p * log2(p) for p in probs if p > 0)\n",
    "\n",
    "print(f\"H(X) = {round(entropy(X.values()), 5)} bits\")\n",
    "print(f\"H(Y) = {round(entropy(Y.values()), 5)} bits\")\n",
    "print(f\"H(X, Y) = {round(entropy(XY), 5)} bits\")\n",
    "print(f\"H(X | Y) = {round(entropy(XY) - entropy(Y.values()), 5)} bits\")\n",
    "print(f\"H(Y | X) = {round(entropy(XY) - entropy(X.values()), 5)} bits\")\n",
    "print(f\"I(X; Y) = {round(entropy(X.values()) + entropy(Y.values()) - entropy(XY), 5)} bits\")"
   ]
  },
  {
   "cell_type": "markdown",
   "id": "d5c3ca08",
   "metadata": {},
   "source": [
    "This is in compliance with the Venn diagram above as well."
   ]
  }
 ],
 "metadata": {
  "kernelspec": {
   "display_name": "Python 3 (ipykernel)",
   "language": "python",
   "name": "python3"
  },
  "language_info": {
   "codemirror_mode": {
    "name": "ipython",
    "version": 3
   },
   "file_extension": ".py",
   "mimetype": "text/x-python",
   "name": "python",
   "nbconvert_exporter": "python",
   "pygments_lexer": "ipython3",
   "version": "3.8.12"
  }
 },
 "nbformat": 4,
 "nbformat_minor": 5
}
