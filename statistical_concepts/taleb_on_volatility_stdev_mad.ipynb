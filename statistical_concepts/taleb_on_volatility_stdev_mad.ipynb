{
 "cells": [
  {
   "cell_type": "markdown",
   "id": "9657b892",
   "metadata": {},
   "source": [
    "# Volatility measures MAD vs. Stdev: Taleb's thoughts + Empirical study"
   ]
  },
  {
   "cell_type": "markdown",
   "id": "bd839333",
   "metadata": {},
   "source": [
    "**TLDR: MAD (Mean absolute deviation) is a better measure of volatility for fat-tailed data**\n",
    "\n",
    "**Outline:**\n",
    "1. Many practitioners in the industry confuse volatility measures: Especially Stdev and MAD\n",
    "2. Cost of mentally substituting Stdev with MAD with clear examples\n",
    "3. MAD is a better measure of volatility for fat-tailed data\n",
    "4. What is a statistical estimator, comparing estimators + some examples\n",
    "5. Comparing MAD vs. Stdev as estimators in normal, non-normal thin-tailed, and fat-tailed data\n",
    "\n",
    "**Summary in 6 bullet points:**\n",
    "- MAD is more intuitive. It's the deviance from the mean, there is a clearer frame of reference compared to Stdev. It's also easier to remember.\n",
    "- Stdev's value and its variance as an estimator skyrockets as fat-tailedness increase. This makes it less intuitive and less efficient compared to MAD.\n",
    "- Stdev is a good estimator of sigma for a Gaussian world. However, many things are not Gaussian, especially stock returns.\n",
    "- Sample MAD estimates population MAD better than sample Stdev estimates population sigma for fat-tailed data\n",
    "- A small number of outliers is enough to create a large gap between Stdev and MAD. There are not so many outliers in Moscow Exchange data, but there's a 145% gap between Stdev and MAD.\n",
    "- When talking about sigma, MAD is used in place of Stdev. This causes 25% underestimation of sigma in a Gaussian world, goes to 90% in fat tails, goes even higher to 145% in Moscow Exchange affected by the war."
   ]
  },
  {
   "cell_type": "markdown",
   "id": "4b268131",
   "metadata": {},
   "source": [
    "## Stdev usually confused with MAD"
   ]
  },
  {
   "cell_type": "markdown",
   "id": "9d40dab3",
   "metadata": {},
   "source": [
    "Goldstein & Taleb show confusing volatility (sigma) with MAD may cause 25% underestimation of sigma in a Gaussian world. This number goes to 90% in fat tailed data. **Confusing these two volatility measures can be costly**\n",
    "\n",
    "For research on how finance people confuses these measures, refer to the paper mentioned in the above sentence: \"We Don't Quite Know What We are Talking About When We Talk About Volatility\"\n",
    "\n",
    "One of the reasons for the confusion is the discrepancy btwn volatility's given definition and the number on the table described as \"volatility\". Definition says \"How much something moves every day on avg (MAD)\", but the number is \"Standard Deviation\".\n",
    "\n",
    "This leads to Kahneman's substitution bias: Something complex (Stdev) mentally substituted with something intuitive and easy to remember (MAD)"
   ]
  },
  {
   "cell_type": "markdown",
   "id": "12ff26d6",
   "metadata": {},
   "source": [
    "### Consequences of Confusing Stdev with MAD - Moscow Exchange\n",
    "\n",
    "Let's look at Moscow Exchange index data (which shows fat tailed characteristics due to the war as of 2 Mar 2022).\n",
    "\n",
    "Data collected from Yahoo Finance, interval is 2 Mar 2021 - 2 Mar 2022\n",
    "\n",
    "**TL;DR: Sigma underestimated by 145% between 2 Mar 2021 - 2 Mar 2022**\n",
    "\n",
    "For the interval between 2 Mar 2021 - 31 Dec 2021, the underestimation is 34%"
   ]
  },
  {
   "cell_type": "code",
   "execution_count": 1,
   "id": "a9e84546",
   "metadata": {},
   "outputs": [],
   "source": [
    "import numpy as np\n",
    "import pandas as pd\n",
    "import matplotlib.pyplot as plt"
   ]
  },
  {
   "cell_type": "code",
   "execution_count": 2,
   "id": "d2f22393",
   "metadata": {},
   "outputs": [],
   "source": [
    "df = pd.read_csv(\"moscow_exchange_data.csv\")"
   ]
  },
  {
   "cell_type": "code",
   "execution_count": 3,
   "id": "6151956f",
   "metadata": {},
   "outputs": [],
   "source": [
    "returns = df[\"Adj Close\"].pct_change() * 100  # in pct format"
   ]
  },
  {
   "cell_type": "code",
   "execution_count": 4,
   "id": "c7cc4a1d",
   "metadata": {},
   "outputs": [
    {
     "data": {
      "text/plain": [
       "0            NaN\n",
       "1       0.174187\n",
       "2      -0.540977\n",
       "3       0.487698\n",
       "4       1.891846\n",
       "         ...    \n",
       "250     1.575963\n",
       "251   -33.280597\n",
       "252    20.035753\n",
       "253     0.000000\n",
       "254     0.000000\n",
       "Name: Adj Close, Length: 255, dtype: float64"
      ]
     },
     "execution_count": 4,
     "metadata": {},
     "output_type": "execute_result"
    }
   ],
   "source": [
    "returns"
   ]
  },
  {
   "cell_type": "code",
   "execution_count": 5,
   "id": "f3454408",
   "metadata": {},
   "outputs": [],
   "source": [
    "returns = returns[~np.isnan(returns)]"
   ]
  },
  {
   "cell_type": "code",
   "execution_count": 6,
   "id": "a10a0606",
   "metadata": {
    "scrolled": true
   },
   "outputs": [
    {
     "data": {
      "image/png": "[encoded data removed]",
      "text/plain": [
       "<Figure size 432x288 with 1 Axes>"
      ]
     },
     "metadata": {
      "needs_background": "light"
     },
     "output_type": "display_data"
    }
   ],
   "source": [
    "# hist. of daily returns\n",
    "plt.hist(returns, bins=40)\n",
    "plt.title(\"Histogram of daily returns\")\n",
    "plt.xlabel(\"Daily return %\")\n",
    "plt.ylabel(\"# Days\")\n",
    "plt.show()"
   ]
  },
  {
   "cell_type": "code",
   "execution_count": 7,
   "id": "ceea4f7a",
   "metadata": {},
   "outputs": [
    {
     "name": "stdout",
     "output_type": "stream",
     "text": [
      "Mean: -0.08%  Stdev: 2.85%  MAD: 1.16%\n",
      "Sigma underestimated by 145.69%\n"
     ]
    }
   ],
   "source": [
    "mean = round(np.mean(returns), 2)\n",
    "stdev = round(np.std(returns), 2)\n",
    "MAD = round(np.mean(np.absolute(returns)), 2)\n",
    "\n",
    "print(f\"Mean: {mean}%  Stdev: {stdev}%  MAD: {MAD}%\")\n",
    "print(f\"Sigma underestimated by {round((stdev - MAD) / MAD * 100, 2)}%\")"
   ]
  },
  {
   "cell_type": "code",
   "execution_count": 8,
   "id": "5c8ef834",
   "metadata": {},
   "outputs": [
    {
     "data": {
      "image/png": "[encoded data removed]",
      "text/plain": [
       "<Figure size 432x288 with 1 Axes>"
      ]
     },
     "metadata": {
      "needs_background": "light"
     },
     "output_type": "display_data"
    }
   ],
   "source": [
    "# hist. of deviation of daily returns from avg\n",
    "returns_dev = np.absolute(returns)\n",
    "plt.hist(returns_dev)\n",
    "plt.title(\"Histogram of absolute deviations (from mean) of daily returns\")\n",
    "plt.xlabel(\"Absolute deviation of daily returns %\")\n",
    "plt.ylabel(\"# Days\")\n",
    "plt.show()"
   ]
  },
  {
   "cell_type": "markdown",
   "id": "8a8d5a57",
   "metadata": {},
   "source": [
    "**Doing the above for the interval btwn 2 Mar - 31 Dec 2021**\n",
    "\n",
    "Underestimation is 34%"
   ]
  },
  {
   "cell_type": "code",
   "execution_count": 9,
   "id": "9c463b69",
   "metadata": {},
   "outputs": [],
   "source": [
    "df_2021 = df[df[\"Date\"] <= \"2021-12-31\"]\n",
    "\n",
    "returns2021 = df_2021[\"Adj Close\"].pct_change() * 100  # in pct format\n",
    "returns2021 = returns2021[~np.isnan(returns2021)]"
   ]
  },
  {
   "cell_type": "code",
   "execution_count": 10,
   "id": "9bbd49d5",
   "metadata": {},
   "outputs": [
    {
     "data": {
      "image/png": "[encoded data removed]",
      "text/plain": [
       "<Figure size 432x288 with 1 Axes>"
      ]
     },
     "metadata": {
      "needs_background": "light"
     },
     "output_type": "display_data"
    }
   ],
   "source": [
    "# hist. of daily returns\n",
    "plt.hist(returns2021)\n",
    "plt.title(\"Histogram of daily returns\")\n",
    "plt.xlabel(\"Daily return %\")\n",
    "plt.ylabel(\"# Days\")\n",
    "plt.show()"
   ]
  },
  {
   "cell_type": "code",
   "execution_count": 11,
   "id": "f0079d23",
   "metadata": {},
   "outputs": [
    {
     "name": "stdout",
     "output_type": "stream",
     "text": [
      "Mean: 0.05%  Stdev: 1.01%  MAD: 0.75%\n",
      "Sigma underestimated by 34.67%\n"
     ]
    }
   ],
   "source": [
    "mean = round(np.mean(returns2021), 2)\n",
    "stdev = round(np.std(returns2021), 2)\n",
    "MAD = round(np.mean(np.absolute(returns2021)), 2)\n",
    "\n",
    "print(f\"Mean: {mean}%  Stdev: {stdev}%  MAD: {MAD}%\")\n",
    "print(f\"Sigma underestimated by {round((stdev - MAD) / MAD * 100, 2)}%\")"
   ]
  },
  {
   "cell_type": "code",
   "execution_count": 12,
   "id": "b047e81d",
   "metadata": {},
   "outputs": [
    {
     "data": {
      "image/png": "[encoded data removed]",
      "text/plain": [
       "<Figure size 432x288 with 1 Axes>"
      ]
     },
     "metadata": {
      "needs_background": "light"
     },
     "output_type": "display_data"
    }
   ],
   "source": [
    "# hist. of deviation of daily returns from avg\n",
    "returns_dev2021 = np.absolute(returns2021)\n",
    "plt.hist(returns_dev2021)\n",
    "plt.title(\"Histogram of absolute deviations (from mean) of daily returns\")\n",
    "plt.xlabel(\"Absolute deviation of daily returns %\")\n",
    "plt.ylabel(\"# Days\")\n",
    "plt.show()"
   ]
  },
  {
   "cell_type": "markdown",
   "id": "4ee124d6",
   "metadata": {},
   "source": [
    "**As the fat-tailedness increase, the difference between Stdev and MAD increase as well.**\n",
    "\n",
    "Doing a shapiro-wilk test for \"returns\" and \"returns2021\": Both are non-normal with alpha = 0.05. **The former has W = 0.46, the latter has W = 0.97**\n",
    "\n",
    "**Remember: the former underestimates sigma by 145%, the latter by 34%**\n",
    "\n",
    "Approximately, W doubled, and the underestimation of sigma became 1/4 of itself"
   ]
  },
  {
   "cell_type": "code",
   "execution_count": 13,
   "id": "16a7c8df",
   "metadata": {},
   "outputs": [
    {
     "name": "stdout",
     "output_type": "stream",
     "text": [
      "0.46 0.0 Reject\n",
      "0.97 0.0 Reject\n"
     ]
    }
   ],
   "source": [
    "# doing shapiro wilk tests to returns and returns2021\n",
    "# shapiro-wilk's null hypothesis = population is normally distributed\n",
    "# test statistic W is \"closeness to normality\"\n",
    "#\n",
    "# let's reject H0 if pvalue <= 0.05\n",
    "# remember pvalue = P(Reject H0 | Given H0 true) = Probability of a false positive\n",
    "\n",
    "from scipy.stats import shapiro\n",
    "\n",
    "reject = lambda pvalue: \"Reject\" if pvalue <= 0.05 else \"Not Reject\"\n",
    "\n",
    "shapiro_returns = shapiro(returns)\n",
    "shapiro_returns2021 = shapiro(returns2021)\n",
    "\n",
    "print(round(shapiro_returns.statistic, 2), round(shapiro_returns.pvalue, 2), reject(shapiro_returns.pvalue))\n",
    "print(round(shapiro_returns2021.statistic, 2), round(shapiro_returns2021.pvalue, 2), reject(shapiro_returns.pvalue))"
   ]
  },
  {
   "cell_type": "markdown",
   "id": "0420aeab",
   "metadata": {},
   "source": [
    "## Why MAD a better measure of volatility\n",
    "\n",
    "Provides a better frame of reference: Compares each point's distance to a single point(mean). More suitable for fat-tailed cases since it does not amplify fat tails. Stock returns are usually non-normal. **As fat-tailedness increases, Stdev's value and its variance as an estimator skyrockets, making it counterintuitive and sensitive to fat-tails.**\n",
    "\n",
    "Then why Stdev exists? Because it's a better measure for describing volatility in Normal dist. Normal dist doesn't have much fat tails\n",
    "\n",
    "Note: Sample MAD estimates population MAD a.k.a `E(|X - μ|)`. Stdev estimates σ\n",
    "\n",
    "MAD is a better estimator under fat tails. Stdev is a better estimator in a Gaussian world. \"Wdym by better?\" Relative efficiency (MAD, Stdev) is > 1. A relatively efficient estimator needs less data to be an accurate estimator. This measure grows as the fat-tailedness increases:\n",
    "\n",
    "**e(MAD, Stdev) = 0.86 in Normal dist, 1.43 in non-normal thinner tails (Returns2021), 3.87 in non-normal fat tails (Returns)**"
   ]
  },
  {
   "cell_type": "markdown",
   "id": "7d81a2d7",
   "metadata": {},
   "source": [
    "### Short intro to estimators\n",
    "An estimator is a statistic that is computed using the sample to estimate some property of a population. The sample mean (x-bar) is an estimator for the population mean (mu). Estimators are used to estimate population parameters of distributions\n",
    "\n",
    "There can be multiple estimators for a population parameter. Such estimators are compared with two measures:\n",
    "- **Consistency:** Estimator with lots of data has a distribution tightly centered around the parameter\n",
    "- **Efficiency:** Minimum variance - to minimize the need for more data\n",
    "\n",
    "\"Asymptotic\" means \"given sufficiently large data\" in this context\n",
    "\n",
    "**Relative efficiency** helps compare two estimators wrt their variances. **The one with smaller variance requires less shots to adequately hit the target**"
   ]
  },
  {
   "cell_type": "markdown",
   "id": "4e21ddc8",
   "metadata": {},
   "source": [
    "**Some maths about efficiency and relative efficiency**\n",
    "\n",
    "Efficiency of an unbiased estimator T estimating parameter θ: `e(T) = 1 / (FisherInfo(θ) * Var(T))`; where `FisherInfo(θ)` is the Fisher Information of the sample (Make a notebook abt Fisher Info as well)\n",
    "\n",
    "Relative efficiency of two estimators T1, T2: `e(T1, T2) = Var(T2) / Var(T1)`"
   ]
  },
  {
   "cell_type": "markdown",
   "id": "31c86f6c",
   "metadata": {},
   "source": [
    "**A case study with Poisson**\n",
    "\n",
    "Say X ~ Pois(λ). Let λ = 5. Then E(X) = Var(X) = λ. \n",
    "\n",
    "E(X) and Var(X) are both estimators for λ. Which one's better?\n",
    "\n",
    "**E(X) is relatively 11x efficient than Var(X)**"
   ]
  },
  {
   "cell_type": "code",
   "execution_count": 14,
   "id": "a8c749af",
   "metadata": {},
   "outputs": [],
   "source": [
    "from scipy.stats import poisson\n",
    "\n",
    "LAMBDA = 5\n",
    "\n",
    "# create a poisson population of 10000 points, with λ = 5\n",
    "population = poisson.rvs(mu=LAMBDA, size=10000, random_state=42)\n",
    "\n",
    "# draw samples of size n = 100 with replacement, do it 1000 times.\n",
    "sample_means = []\n",
    "sample_vars = []\n",
    "sample_rng = np.random.RandomState(42)\n",
    "for _ in range(1000):\n",
    "    sample = sample_rng.choice(population, size=100, replace=True)\n",
    "    sample_means.append(round(np.mean(sample), 3))\n",
    "    sample_vars.append(round(np.var(sample), 3))"
   ]
  },
  {
   "cell_type": "code",
   "execution_count": 15,
   "id": "bd5f25c9",
   "metadata": {},
   "outputs": [
    {
     "data": {
      "image/png": "[encoded data removed]",
      "text/plain": [
       "<Figure size 432x288 with 1 Axes>"
      ]
     },
     "metadata": {
      "needs_background": "light"
     },
     "output_type": "display_data"
    }
   ],
   "source": [
    "# distribution of sample means\n",
    "plt.hist(sample_means)\n",
    "plt.title(f\"Distribution of sample means (λ = {LAMBDA}) - Poisson\")\n",
    "plt.xlabel(\"Sample mean\")\n",
    "plt.ylabel(\"Frequency\")\n",
    "plt.show()"
   ]
  },
  {
   "cell_type": "code",
   "execution_count": 16,
   "id": "5a9a7a14",
   "metadata": {},
   "outputs": [
    {
     "data": {
      "image/png": "[encoded data removed]",
      "text/plain": [
       "<Figure size 432x288 with 1 Axes>"
      ]
     },
     "metadata": {
      "needs_background": "light"
     },
     "output_type": "display_data"
    }
   ],
   "source": [
    "# distribution of sample vars\n",
    "plt.hist(sample_vars)\n",
    "plt.title(\"Distribution of sample vars (λ = 5) - Poisson\")\n",
    "plt.xlabel(\"Sample var\")\n",
    "plt.ylabel(\"Frequency\")\n",
    "plt.show()"
   ]
  },
  {
   "cell_type": "code",
   "execution_count": 17,
   "id": "48df72a4",
   "metadata": {},
   "outputs": [
    {
     "name": "stdout",
     "output_type": "stream",
     "text": [
      "Comparing estimators (λ = 5):\n",
      "Sample mean - Bias: -0.005  Variance: 0.047\n",
      "Sample var - Bias: -0.097  Variance: 0.53\n"
     ]
    }
   ],
   "source": [
    "print(f\"Comparing estimators (λ = {LAMBDA}):\")\n",
    "print(f\"Sample mean - Bias: {round(np.mean(sample_means) - LAMBDA, 3)}  Variance: {round(np.var(sample_means), 3)}\")\n",
    "print(f\"Sample var - Bias: {round(np.mean(sample_vars) - LAMBDA, 3)}  Variance: {round(np.var(sample_vars), 3)}\")"
   ]
  },
  {
   "cell_type": "code",
   "execution_count": 18,
   "id": "14e9101e",
   "metadata": {},
   "outputs": [
    {
     "name": "stdout",
     "output_type": "stream",
     "text": [
      "Comparing relative efficiencies of the two:\n",
      "Relative efficiency of Sample mean, Sample var: 11.317\n"
     ]
    }
   ],
   "source": [
    "print(\"Comparing relative efficiencies of the two:\")\n",
    "print(f\"Relative efficiency of Sample mean, Sample var: {round(np.var(sample_vars) / np.var(sample_means), 3)}\")"
   ]
  },
  {
   "cell_type": "markdown",
   "id": "7dd41078",
   "metadata": {},
   "source": [
    "Sample mean is relatively 11x efficient than the sample var as an estimator of λ"
   ]
  },
  {
   "cell_type": "markdown",
   "id": "5728ebf1",
   "metadata": {},
   "source": [
    "### Comparing MAD vs Stdev in Normal Dist\n",
    "We said Stdev is more efficient than MAD in a Gaussian world. Let's see by looking at `e(MAD, Stdev)`\n",
    "\n",
    "We have a Normal dist with mu = 0, sigma = 2\n",
    "\n",
    "**Stdev is 1.16x more efficient than MAD in a Gaussian world**"
   ]
  },
  {
   "cell_type": "code",
   "execution_count": 19,
   "id": "4a6b5150",
   "metadata": {},
   "outputs": [],
   "source": [
    "MU = 0\n",
    "SIGMA = 2\n",
    "\n",
    "# create a gaussian population of 10000 points, with μ = 0, σ = 2\n",
    "gaussian_rng = np.random.RandomState(42)\n",
    "population = gaussian_rng.normal(loc=MU, scale=SIGMA, size=10000)\n",
    "pop_MAD = round(np.mean(np.absolute(population)), 3)\n",
    "\n",
    "# draw samples of size n = 100 with replacement, do it 1000 times.\n",
    "sample_mads = []\n",
    "sample_stdevs = []\n",
    "sample_rng = np.random.RandomState(42)\n",
    "for _ in range(1000):\n",
    "    sample = sample_rng.choice(population, size=100, replace=True)\n",
    "    sample_mads.append(round(np.mean(np.absolute(sample)), 3))\n",
    "    sample_stdevs.append(round(np.std(sample), 3))"
   ]
  },
  {
   "cell_type": "code",
   "execution_count": 20,
   "id": "bf2fb605",
   "metadata": {},
   "outputs": [
    {
     "data": {
      "image/png": "[encoded data removed]",
      "text/plain": [
       "<Figure size 432x288 with 1 Axes>"
      ]
     },
     "metadata": {
      "needs_background": "light"
     },
     "output_type": "display_data"
    }
   ],
   "source": [
    "# distribution of sample MADs\n",
    "plt.hist(sample_mads)\n",
    "plt.title(f\"Distribution of sample MADs (Population MAD = {pop_MAD}) - Normal dist\")\n",
    "plt.xlabel(\"Sample MAD\")\n",
    "plt.ylabel(\"Frequency\")\n",
    "plt.show()"
   ]
  },
  {
   "cell_type": "code",
   "execution_count": 21,
   "id": "fb9fe655",
   "metadata": {},
   "outputs": [
    {
     "data": {
      "image/png": "[encoded data removed]",
      "text/plain": [
       "<Figure size 432x288 with 1 Axes>"
      ]
     },
     "metadata": {
      "needs_background": "light"
     },
     "output_type": "display_data"
    }
   ],
   "source": [
    "# distribution of sample stdevs\n",
    "plt.hist(sample_stdevs)\n",
    "plt.title(f\"Distribution of sample Stdevs (σ = {SIGMA}) - Normal dist\")\n",
    "plt.xlabel(\"Sample Stdev\")\n",
    "plt.ylabel(\"Frequency\")\n",
    "plt.show()"
   ]
  },
  {
   "cell_type": "code",
   "execution_count": 22,
   "id": "d5ce3c7b",
   "metadata": {},
   "outputs": [
    {
     "name": "stdout",
     "output_type": "stream",
     "text": [
      "Comparing estimators (σ = 2, Population MAD = 1.599):\n",
      "Sample MAD - Bias: -0.001  Variance: 0.015\n",
      "Sample Stdev - Bias: -0.012  Variance: 0.02\n"
     ]
    }
   ],
   "source": [
    "print(f\"Comparing estimators (σ = {SIGMA}, Population MAD = {pop_MAD}):\")\n",
    "print(f\"Sample MAD - Bias: {round(np.mean(sample_mads) - pop_MAD, 3)}  Variance: {round(np.var(sample_mads), 3)}\")\n",
    "print(f\"Sample Stdev - Bias: {round(np.mean(sample_stdevs) - SIGMA, 3)}  Variance: {round(np.var(sample_stdevs), 3)}\")"
   ]
  },
  {
   "cell_type": "markdown",
   "id": "2bc0b7bc",
   "metadata": {},
   "source": [
    "Comparing relative efficiency between MAD and Stdev is different than the one above. Stdev and MAD estimate different measures of volatility. Therefore instead of comparing variances, we compare their coefficients of variation.  \n",
    "\n",
    "`e(MAD, SD) = (Var(SD ** 2) / E(SD) ** 2) / (Var(MAD) / E(MAD) ** 2)`"
   ]
  },
  {
   "cell_type": "code",
   "execution_count": 23,
   "id": "2612dd06",
   "metadata": {},
   "outputs": [],
   "source": [
    "E_SD = round(np.mean(sample_stdevs), 3)\n",
    "Var_SD = round(np.var(sample_stdevs), 3)\n",
    "\n",
    "E_MAD = round(np.mean(sample_mads), 3)\n",
    "Var_MAD = round(np.var(sample_mads), 3)"
   ]
  },
  {
   "cell_type": "code",
   "execution_count": 24,
   "id": "b3120c4e",
   "metadata": {},
   "outputs": [
    {
     "name": "stdout",
     "output_type": "stream",
     "text": [
      "Relative efficiency of MAD, Stdev: 0.862\n"
     ]
    }
   ],
   "source": [
    "print(f\"Relative efficiency of MAD, Stdev: {round((Var_SD / (E_SD ** 2)) / (Var_MAD / (E_MAD ** 2)), 3)}\")"
   ]
  },
  {
   "cell_type": "markdown",
   "id": "f6dc01af",
   "metadata": {},
   "source": [
    "### Comparing MAD vs Stdev in Moscow Exchange Data\n",
    "\n",
    "We will look at relative efficiency `e(MAD, Stdev)` in two Moscow Exchange datasets.\n",
    "\n",
    "1. Returns: Daily returns of MOEX index btwn 2 Mar 2021 - 2 Mar 2022. **The wartime fat-tails are out and about**\n",
    "2. Returns2021: Daily returns of MOEX index btwn 2 Mar 2021 - 31 Dec 2021 **Not normal by shapiro-wilk but thinner tails**\n",
    "\n",
    "**For fat-tails, MAD is 3.87x more efficient than Stdev**\n",
    "\n",
    "**For non-normal but thinner tails, MAD is only 1.43x more efficient than Stdev** \n",
    "\n",
    "(In normal dist, MAD is 0.86x less efficient than Stdev)"
   ]
  },
  {
   "cell_type": "markdown",
   "id": "6c2bfff1",
   "metadata": {},
   "source": [
    "**Comparing MAD vs Stdev: Returns (Fat-tails)**"
   ]
  },
  {
   "cell_type": "code",
   "execution_count": 25,
   "id": "f6f85dd8",
   "metadata": {},
   "outputs": [],
   "source": [
    "SIGMA = round(np.std(returns), 3)\n",
    "pop_MAD = round(np.mean(np.absolute(returns)), 3)\n",
    "\n",
    "# draw samples of size n = 40 with replacement, do it 400 times.\n",
    "sample_mads = []\n",
    "sample_stdevs = []\n",
    "sample_rng = np.random.RandomState(42)\n",
    "for _ in range(400):\n",
    "    sample = sample_rng.choice(returns, size=40, replace=True)\n",
    "    sample_mads.append(round(np.mean(np.absolute(sample)), 3))\n",
    "    sample_stdevs.append(round(np.std(sample), 3))"
   ]
  },
  {
   "cell_type": "code",
   "execution_count": 26,
   "id": "dccbf825",
   "metadata": {},
   "outputs": [
    {
     "data": {
      "image/png": "[encoded data removed]",
      "text/plain": [
       "<Figure size 432x288 with 1 Axes>"
      ]
     },
     "metadata": {
      "needs_background": "light"
     },
     "output_type": "display_data"
    }
   ],
   "source": [
    "# distribution of sample MADs\n",
    "plt.hist(sample_mads)\n",
    "plt.title(f\"Distribution of sample MADs (Population MAD = {pop_MAD}) - Fat tails (Returns)\")\n",
    "plt.xlabel(\"Sample MAD\")\n",
    "plt.ylabel(\"Frequency\")\n",
    "plt.show()"
   ]
  },
  {
   "cell_type": "code",
   "execution_count": 27,
   "id": "020ef0c5",
   "metadata": {},
   "outputs": [
    {
     "data": {
      "image/png": "[encoded data removed]",
      "text/plain": [
       "<Figure size 432x288 with 1 Axes>"
      ]
     },
     "metadata": {
      "needs_background": "light"
     },
     "output_type": "display_data"
    }
   ],
   "source": [
    "# distribution of sample stdevs\n",
    "plt.hist(sample_stdevs)\n",
    "plt.title(f\"Distribution of sample Stdevs (σ = {SIGMA}) - Fat tails (Returns)\")\n",
    "plt.xlabel(\"Sample Stdev\")\n",
    "plt.ylabel(\"Frequency\")\n",
    "plt.show()"
   ]
  },
  {
   "cell_type": "code",
   "execution_count": 28,
   "id": "f4f989f5",
   "metadata": {},
   "outputs": [
    {
     "name": "stdout",
     "output_type": "stream",
     "text": [
      "Comparing estimators (σ = 2.846, Population MAD = 1.162):\n",
      "Sample MAD - Bias: -0.004  Variance: 0.18\n",
      "Sample Stdev - Bias: -0.57  Variance: 2.692\n"
     ]
    }
   ],
   "source": [
    "print(f\"Comparing estimators (σ = {SIGMA}, Population MAD = {pop_MAD}):\")\n",
    "print(f\"Sample MAD - Bias: {round(np.mean(sample_mads) - pop_MAD, 3)}  Variance: {round(np.var(sample_mads), 3)}\")\n",
    "print(f\"Sample Stdev - Bias: {round(np.mean(sample_stdevs) - SIGMA, 3)}  Variance: {round(np.var(sample_stdevs), 3)}\")"
   ]
  },
  {
   "cell_type": "code",
   "execution_count": 29,
   "id": "ae635291",
   "metadata": {},
   "outputs": [
    {
     "name": "stdout",
     "output_type": "stream",
     "text": [
      "Relative efficiency of MAD, Stdev: 3.871\n"
     ]
    }
   ],
   "source": [
    "E_SD = round(np.mean(sample_stdevs), 3)\n",
    "Var_SD = round(np.var(sample_stdevs), 3)\n",
    "\n",
    "E_MAD = round(np.mean(sample_mads), 3)\n",
    "Var_MAD = round(np.var(sample_mads), 3)\n",
    "\n",
    "print(f\"Relative efficiency of MAD, Stdev: {round((Var_SD / (E_SD ** 2)) / (Var_MAD / (E_MAD ** 2)), 3)}\")"
   ]
  },
  {
   "cell_type": "markdown",
   "id": "883b7c1a",
   "metadata": {},
   "source": [
    "**Comparing MAD vs Stdev: Returns2021 (Thinner tails)**"
   ]
  },
  {
   "cell_type": "code",
   "execution_count": 30,
   "id": "79ea8b87",
   "metadata": {},
   "outputs": [],
   "source": [
    "SIGMA = round(np.std(returns2021), 3)\n",
    "pop_MAD = round(np.mean(np.absolute(returns2021)), 3)\n",
    "\n",
    "# draw samples of size n = 40 with replacement, do it 400 times.\n",
    "sample_mads = []\n",
    "sample_stdevs = []\n",
    "sample_rng = np.random.RandomState(42)\n",
    "for _ in range(400):\n",
    "    sample = sample_rng.choice(returns2021, size=40, replace=True)\n",
    "    sample_mads.append(round(np.mean(np.absolute(sample)), 3))\n",
    "    sample_stdevs.append(round(np.std(sample), 3))"
   ]
  },
  {
   "cell_type": "code",
   "execution_count": 31,
   "id": "5f39dd5f",
   "metadata": {},
   "outputs": [
    {
     "data": {
      "image/png": "[encoded data removed]",
      "text/plain": [
       "<Figure size 432x288 with 1 Axes>"
      ]
     },
     "metadata": {
      "needs_background": "light"
     },
     "output_type": "display_data"
    }
   ],
   "source": [
    "# distribution of sample MADs\n",
    "plt.hist(sample_mads)\n",
    "plt.title(f\"Distribution of sample MADs (Population MAD = {pop_MAD}) - Thinner tails (Returns2021)\")\n",
    "plt.xlabel(\"Sample MAD\")\n",
    "plt.ylabel(\"Frequency\")\n",
    "plt.show()"
   ]
  },
  {
   "cell_type": "code",
   "execution_count": 32,
   "id": "02439b45",
   "metadata": {},
   "outputs": [
    {
     "data": {
      "image/png": "[encoded data removed]",
      "text/plain": [
       "<Figure size 432x288 with 1 Axes>"
      ]
     },
     "metadata": {
      "needs_background": "light"
     },
     "output_type": "display_data"
    }
   ],
   "source": [
    "# distribution of sample stdevs\n",
    "plt.hist(sample_stdevs)\n",
    "plt.title(f\"Distribution of sample Stdevs (σ = {SIGMA}) - Thinner tails (Returns2021)\")\n",
    "plt.xlabel(\"Sample Stdev\")\n",
    "plt.ylabel(\"Frequency\")\n",
    "plt.show()"
   ]
  },
  {
   "cell_type": "code",
   "execution_count": 33,
   "id": "67c4612a",
   "metadata": {},
   "outputs": [
    {
     "name": "stdout",
     "output_type": "stream",
     "text": [
      "Comparing estimators (σ = 1.008, Population MAD = 0.752):\n",
      "Sample MAD - Bias: -0.008  Variance: 0.011\n",
      "Sample Stdev - Bias: -0.034  Variance: 0.027\n"
     ]
    }
   ],
   "source": [
    "print(f\"Comparing estimators (σ = {SIGMA}, Population MAD = {pop_MAD}):\")\n",
    "print(f\"Sample MAD - Bias: {round(np.mean(sample_mads) - pop_MAD, 3)}  Variance: {round(np.var(sample_mads), 3)}\")\n",
    "print(f\"Sample Stdev - Bias: {round(np.mean(sample_stdevs) - SIGMA, 3)}  Variance: {round(np.var(sample_stdevs), 3)}\")"
   ]
  },
  {
   "cell_type": "code",
   "execution_count": 34,
   "id": "8ab15089",
   "metadata": {},
   "outputs": [
    {
     "name": "stdout",
     "output_type": "stream",
     "text": [
      "Relative efficiency of MAD, Stdev: 1.432\n"
     ]
    }
   ],
   "source": [
    "E_SD = round(np.mean(sample_stdevs), 3)\n",
    "Var_SD = round(np.var(sample_stdevs), 3)\n",
    "\n",
    "E_MAD = round(np.mean(sample_mads), 3)\n",
    "Var_MAD = round(np.var(sample_mads), 3)\n",
    "\n",
    "print(f\"Relative efficiency of MAD, Stdev: {round((Var_SD / (E_SD ** 2)) / (Var_MAD / (E_MAD ** 2)), 3)}\")"
   ]
  }
 ],
 "metadata": {
  "kernelspec": {
   "display_name": "Python 3 (ipykernel)",
   "language": "python",
   "name": "python3"
  },
  "language_info": {
   "codemirror_mode": {
    "name": "ipython",
    "version": 3
   },
   "file_extension": ".py",
   "mimetype": "text/x-python",
   "name": "python",
   "nbconvert_exporter": "python",
   "pygments_lexer": "ipython3",
   "version": "3.8.12"
  }
 },
 "nbformat": 4,
 "nbformat_minor": 5
}
