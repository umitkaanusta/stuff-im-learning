{
 "cells": [
  {
   "cell_type": "markdown",
   "metadata": {},
   "source": [
    "# A blending problem\n",
    "\n",
    "- We gonna make cat food\n",
    "- Minimize total cost\n",
    "- Total of ingredients must be 100g, meet some nutritional requirements\n",
    "- Costs and nutritional values given"
   ]
  },
  {
   "cell_type": "markdown",
   "metadata": {},
   "source": [
    "## Data"
   ]
  },
  {
   "cell_type": "markdown",
   "metadata": {},
   "source": [
    "Values per 1 gram\n",
    "\n",
    "...............Chicken, Beef, Mutton, Rice, Wheat,  Gel\n",
    "\n",
    "costs....= [0.013, 0.008, 0.010, 0.002, 0.005, 0.001]\n",
    "\n",
    "protein = [0.100, 0.200, 0.150, 0.000, 0.040, 0.000]\n",
    "\n",
    "fat .......= [0.080, 0.100, 0.110, 0.010, 0.010, 0.000]\n",
    "\n",
    "fibre.....= [0.001, 0.005, 0.003, 0.100, 0.150, 0.000]\n",
    "\n",
    "salt......= [0.002, 0.005, 0.007, 0.002, 0.008, 0.000]"
   ]
  },
  {
   "cell_type": "markdown",
   "metadata": {},
   "source": [
    "## Simplified Formulation\n",
    "Consider just two ingredients: Chicken and Beef"
   ]
  },
  {
   "cell_type": "markdown",
   "metadata": {},
   "source": [
    "### Decision variables\n",
    "\n",
    "x1 = Percentage of chicken meat in a can of cat food\n",
    "\n",
    "x2 = Percentage of beef in a can of cat food\n",
    "\n",
    "### Objective function\n",
    "\n",
    "`min cost_1 * x1 + cost_2 * x2`\n",
    "\n",
    "i.e: `min 0.013 * x1 + 0.008 * x2`\n",
    "\n",
    "### Constraints\n",
    "`1.000 * x1 + 1.000 * x2 = 100.0` - Grams\n",
    "\n",
    "`0.100 * x1 + 0.200 * x2 >= 8.0` - Protein\n",
    "\n",
    "`0.080 * x1 + 0.100 * x2 >= 6.0` - Fat\n",
    "\n",
    "`0.001 * x1 + 0.005 * x2 <= 2.0` - Fibre\n",
    "\n",
    "`0.002 * x1 + 0.005 * x2 <= 0.4` - Salt"
   ]
  },
  {
   "cell_type": "markdown",
   "metadata": {},
   "source": [
    "### Solving the problem"
   ]
  },
  {
   "cell_type": "code",
   "execution_count": 1,
   "metadata": {},
   "outputs": [
    {
     "name": "stdout",
     "output_type": "stream",
     "text": [
      "Status: Optimal\n",
      "BeefPercent = 66.0\n",
      "ChickenPercent = 34.0\n",
      "Total Cost of Ingredients per can =  0.97 dollars\n"
     ]
    }
   ],
   "source": [
    "import pulp\n",
    "\n",
    "# Contains problem data\n",
    "prob = pulp.LpProblem(\"Whiskas_Simplified\", pulp.LpMinimize)\n",
    "\n",
    "\n",
    "# Create variables with lower bound 0\n",
    "x1 = pulp.LpVariable(\"ChickenPercent\", 0, None, pulp.LpInteger)\n",
    "x2 = pulp.LpVariable(\"BeefPercent\", 0)\n",
    "\n",
    "# Add objective function\n",
    "prob += 0.013 * x1 + 0.008 * x2\n",
    "\n",
    "# Enter constraints\n",
    "prob += 1.000 * x1 + 1.000 * x2 == 100.0 # Grams\n",
    "prob += 0.100 * x1 + 0.200 * x2 >= 8.0 # Protein\n",
    "prob += 0.080 * x1 + 0.100 * x2 >= 6.0 # Fat\n",
    "prob += 0.001 * x1 + 0.005 * x2 <= 2.0 # Fibre\n",
    "prob += 0.002 * x1 + 0.005 * x2 <= 0.4 # Salt\n",
    "\n",
    "# Solve\n",
    "prob.solve()\n",
    "\n",
    "# Status of the solution\n",
    "print(\"Status:\", pulp.LpStatus[prob.status])\n",
    "\n",
    "# Each of the variables is printed with it's resolved optimum value\n",
    "for v in prob.variables():\n",
    "    print(v.name, \"=\", v.varValue)\n",
    "    \n",
    "# Optimized objective function value (min cost):\n",
    "print(\"Total Cost of Ingredients per can = \", (pulp.value(prob.objective)), \"dollars\")"
   ]
  },
  {
   "cell_type": "markdown",
   "metadata": {},
   "source": [
    "## Solving the actual problem\n",
    "Consider every ingredient this time"
   ]
  },
  {
   "cell_type": "markdown",
   "metadata": {},
   "source": [
    "### Decision variables\n",
    "\n",
    "x1 = Percentage of chicken meat in a can of cat food\n",
    "\n",
    "x2 = Percentage of beef ''\n",
    "\n",
    "x3 = Percentage of mutton ''\n",
    "\n",
    "x4 = Percentage of rice ''\n",
    "\n",
    "x5 = Percentage of wheat ''\n",
    "\n",
    "x6 = Percentage of gel ''\n",
    "\n",
    "### Objective function\n",
    "\n",
    "`min sum(cost_i * xi)`\n",
    "\n",
    "i.e: `min 0.013 * x1 + 0.008 * x2 + 0.010 * x3 + 0.002 * x4 + 0.005 * x5 + 0.001 * x6`\n",
    "\n",
    "### Constraints\n",
    "`1.000 * x1 + 1.000 * x2 + 1.000 * x3 + 1.000 * x4 + 1.000 * x5 + 1.000 * x6 = 100.0` - Grams\n",
    "\n",
    "`0.100 * x1 + 0.200 * x2 + 0.150 * x3 + 0.000 * x4 + 0.040 * x5 + 0.000 * x6 >= 8.0` - Protein\n",
    "\n",
    "`0.080 * x1 + 0.100 * x2 + 0.110 * x3 + 0.010 * x4 + 0.010 * x5 + 0.000 * x6 >= 6.0` - Fat\n",
    "\n",
    "`0.001 * x1 + 0.005 * x2 + 0.003 * x3 + 0.100 * x4 + 0.150 * x5 + 0.000 * x6 <= 2.0` - Fibre\n",
    "\n",
    "`0.002 * x1 + 0.005 * x2 + 0.007 * x3 + 0.002 * x4 + 0.008 * x5 + 0.000 * x6 <= 0.4` - Salt"
   ]
  },
  {
   "cell_type": "markdown",
   "metadata": {},
   "source": [
    "### Solving the problem"
   ]
  },
  {
   "cell_type": "code",
   "execution_count": 2,
   "metadata": {},
   "outputs": [
    {
     "name": "stdout",
     "output_type": "stream",
     "text": [
      "Status: Optimal\n",
      "BeefPercent = 60.0\n",
      "ChickenPercent = 0.0\n",
      "GelPercent = 40.0\n",
      "MuttonPercent = 0.0\n",
      "RicePercent = 0.0\n",
      "WheatPercent = 0.0\n",
      "Total Cost of Ingredients per can =  0.52 dollars\n"
     ]
    }
   ],
   "source": [
    "prob = pulp.LpProblem(\"Whiskas\", pulp.LpMinimize)\n",
    "\n",
    "\n",
    "# Create variables with lower bound 0\n",
    "x1 = pulp.LpVariable(\"ChickenPercent\", 0, None, pulp.LpInteger)\n",
    "x2 = pulp.LpVariable(\"BeefPercent\", 0)\n",
    "x3 = pulp.LpVariable(\"MuttonPercent\", 0)\n",
    "x4 = pulp.LpVariable(\"RicePercent\", 0)\n",
    "x5 = pulp.LpVariable(\"WheatPercent\", 0)\n",
    "x6 = pulp.LpVariable(\"GelPercent\", 0)\n",
    "\n",
    "# Add objective function\n",
    "prob += 0.013 * x1 + 0.008 * x2 + 0.010 * x3 + 0.002 * x4 + 0.005 * x5 + 0.001 * x6\n",
    "\n",
    "# Enter constraints\n",
    "prob += 1.000 * x1 + 1.000 * x2 + 1.000 * x3 + 1.000 * x4 + 1.000 * x5 + 1.000 * x6 == 100.0 # Grams\n",
    "prob += 0.100 * x1 + 0.200 * x2 + 0.150 * x3 + 0.000 * x4 + 0.040 * x5 + 0.000 * x6 >= 8.0 # Protein\n",
    "prob += 0.080 * x1 + 0.100 * x2 + 0.110 * x3 + 0.010 * x4 + 0.010 * x5 + 0.000 * x6 >= 6.0 # Fat\n",
    "prob += 0.001 * x1 + 0.005 * x2 + 0.003 * x3 + 0.100 * x4 + 0.150 * x5 + 0.000 * x6 <= 2.0 # Fibre\n",
    "prob += 0.002 * x1 + 0.005 * x2 + 0.007 * x3 + 0.002 * x4 + 0.008 * x5 + 0.000 * x6 <= 0.4 # Salt\n",
    "\n",
    "# Solve\n",
    "prob.solve()\n",
    "\n",
    "# Status of the solution\n",
    "print(\"Status:\", pulp.LpStatus[prob.status])\n",
    "\n",
    "# Each of the variables is printed with it's resolved optimum value\n",
    "for v in prob.variables():\n",
    "    print(v.name, \"=\", v.varValue)\n",
    "    \n",
    "# Optimized objective function value (min cost):\n",
    "print(\"Total Cost of Ingredients per can = \", pulp.value(prob.objective), \"dollars\")"
   ]
  },
  {
   "cell_type": "markdown",
   "metadata": {},
   "source": [
    "# A Set Partitioning Problem\n",
    "Put items in one set (S) into smaller subsets\n",
    "\n",
    "- Determine guest seating allocations for a wedding\n",
    "- Tables are partitions, guests are elements of S\n",
    "- Maximize total happiness of all of the tables (minimize sum of (max dists between two letters) of all used tables)\n",
    "\n",
    "- Enumerate each possible subsets, that way objective func coeficients can be non-linear expressions (like happiness) but still the problem can be solved using LP."
   ]
  },
  {
   "cell_type": "markdown",
   "metadata": {},
   "source": [
    "## Data\n",
    "\n",
    "Max tables: 5\n",
    "\n",
    "Max table size: 4\n",
    "\n",
    "Guests: A, B, C, D, E, F, G, I, J, K, L, M, N, O, P, Q, R\n",
    "\n",
    "Max dist: abs(Max dist. between two letters in table)"
   ]
  },
  {
   "cell_type": "markdown",
   "metadata": {},
   "source": [
    "### Objective Function\n",
    "\n",
    "`min sum(max_dist(table) * x[table] for table in possible_tables)`\n",
    "- Minimize sum of maximum distances of used tables"
   ]
  },
  {
   "cell_type": "markdown",
   "metadata": {},
   "source": [
    "### Constraints\n",
    "Max number of used tables <= 5\n",
    "- `sum(x[table] for table in possible_tables) <= 5`\n",
    "\n",
    "A guest must seated at one and only one used table\n",
    "- `sum(x[table] for table in possible_tables if guest in table) == 1`"
   ]
  },
  {
   "cell_type": "code",
   "execution_count": 3,
   "metadata": {},
   "outputs": [
    {
     "name": "stdout",
     "output_type": "stream",
     "text": [
      "Chosen tables out of 3213\n",
      "('M', 'N')\n",
      "('E', 'F', 'G')\n",
      "('A', 'B', 'C', 'D')\n",
      "('I', 'J', 'K', 'L')\n",
      "('O', 'P', 'Q', 'R')\n",
      "\n",
      "Sum of max dists: 12.0\n"
     ]
    }
   ],
   "source": [
    "import pulp\n",
    "\n",
    "max_tables = 5\n",
    "max_table_size = 4\n",
    "guests = \"A B C D E F G I J K L M N O P Q R\".split()\n",
    "\n",
    "def max_dist(table):\n",
    "    \"\"\"\n",
    "    Find the happiness of the table\n",
    "    - by calculating the maximum distance between the letters\n",
    "    \"\"\"\n",
    "    return abs(ord(table[0]) - ord(table[-1]))\n",
    "\n",
    "# list of all possible tables\n",
    "possible_tables = [tuple(c) for c in pulp.allcombinations(guests, max_table_size)]\n",
    "\n",
    "# binary variable - is a table setting used?\n",
    "x = pulp.LpVariable.dicts(\"table\", possible_tables, lowBound=0, upBound=1, cat=pulp.LpInteger)\n",
    "                \n",
    "seating_model = pulp.LpProblem(\"Wedding_Seating_Model\", pulp.LpMinimize)\n",
    "\n",
    "# Objective function - minimize sum of max dists between letters (consider used tables)\n",
    "seating_model += sum([max_dist(table) * x[table] for table in possible_tables])\n",
    "\n",
    "# Max number of tables can't exceed 5\n",
    "seating_model += sum([x[table] for table in possible_tables]) <= max_tables\n",
    "\n",
    "#A guest must seated at one and only one table\n",
    "for guest in guests:\n",
    "    seating_model += sum([x[table] for table in possible_tables if guest in table]) == 1\n",
    "    \n",
    "seating_model.solve()\n",
    "\n",
    "print(f\"Chosen tables out of {len(possible_tables)}\")\n",
    "for table in possible_tables:\n",
    "    if x[table].value():\n",
    "        print(table)\n",
    "        \n",
    "print(\"\\nSum of max dists:\", pulp.value(seating_model.objective))"
   ]
  }
 ],
 "metadata": {
  "kernelspec": {
   "display_name": "Python 3",
   "language": "python",
   "name": "python3"
  },
  "language_info": {
   "codemirror_mode": {
    "name": "ipython",
    "version": 3
   },
   "file_extension": ".py",
   "mimetype": "text/x-python",
   "name": "python",
   "nbconvert_exporter": "python",
   "pygments_lexer": "ipython3",
   "version": "3.8.5"
  }
 },
 "nbformat": 4,
 "nbformat_minor": 4
}
