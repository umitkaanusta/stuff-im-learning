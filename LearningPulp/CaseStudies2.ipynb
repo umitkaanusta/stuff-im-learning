{
 "cells": [
  {
   "cell_type": "markdown",
   "metadata": {},
   "source": [
    "Studying the cases in the PuLP documentation - continued"
   ]
  },
  {
   "cell_type": "markdown",
   "metadata": {},
   "source": [
    "# Beer Distribution (Transportation) Problem"
   ]
  },
  {
   "cell_type": "markdown",
   "metadata": {},
   "source": [
    "- Distribute from **2 warehouses** to **5 bars**\n",
    "- Warehouses (supply nodes) - {A: 1000 cases, B: 4000 cases}\n",
    "- Bars (demand nodes) require - {1: 500, 2: 900, 3: 1800, 4: 200, 5: 700}\n",
    "- Goal is to **minimize transportation costs, which warehouse should supply which bar?**\n",
    "- Since total supply > total demand, put the surplus into a dummy demand node D\n",
    "    - Putting into D is the equivalent of keeping it in the warehouse\n",
    "    \n",
    "**Note:** If a transportation problem has excess supply, you can balance it with putting the surplus into a dummy demand node. A solution to an unbalanced problem w/ excess demand is infeasible.\n",
    "\n",
    "**Corollary:** If we had 4000 supply and 4100 demand, we'd create a dummy supply node (a.k.a competitor) with 100 cases."
   ]
  },
  {
   "cell_type": "markdown",
   "metadata": {},
   "source": [
    "## Data\n",
    "\n",
    "**Supply:** A: 1000, B: 4000\n",
    "\n",
    "**Demand:** 1: 500, 2: 900, 3: 1800, 4: 200, 5: 700, D: 900\n",
    "\n",
    "\n",
    "**Cost per case**\n",
    "\n",
    "| From warehouse to bar | A | B |\n",
    "| --------- | - | - |\n",
    "| 1 | 2 | 3 |\n",
    "| 2 | 4 | 1 |\n",
    "| 3 | 5 | 3 |\n",
    "| 4 | 2 | 2 |\n",
    "| 5 | 1 | 3 |\n",
    "| D | 0 | 0 |\n",
    "\n",
    "- Cost of storing the surplus is 0"
   ]
  },
  {
   "cell_type": "markdown",
   "metadata": {},
   "source": [
    "## Problem Formulation"
   ]
  },
  {
   "cell_type": "markdown",
   "metadata": {},
   "source": [
    "### Decision variables\n",
    "\n",
    "- Edges A1..A5 and B1..B5\n",
    "    - A1 is the # of cases to be sent from A to 1\n",
    "    - Edges are nonnegative integers, cases can't be separated"
   ]
  },
  {
   "cell_type": "markdown",
   "metadata": {},
   "source": [
    "### Objective function\n",
    "- Minimize total cost\n",
    "    - **min** `sum(cost_per_case(wh, bar) * cases_supplied(wh, bar) for each wh and bar`"
   ]
  },
  {
   "cell_type": "markdown",
   "metadata": {},
   "source": [
    "### Constraints\n",
    "\n",
    "- `sum(A1, ..., A5, AD) <= 1000` - A can't supply more than its capacity\n",
    "- `sum(B1, ..., B5, BD) <= 4000` - B can't supply more than its capacity\n",
    "- `Ai + Bi == demand(i) for each bar i` - Each bar's demand must be fulfilled (total supply is enough for that)"
   ]
  },
  {
   "cell_type": "code",
   "execution_count": 1,
   "metadata": {},
   "outputs": [
    {
     "name": "stdout",
     "output_type": "stream",
     "text": [
      "Status: Optimal\n",
      "Route_A_1 = 300.0\n",
      "Route_A_2 = 0.0\n",
      "Route_A_3 = 0.0\n",
      "Route_A_4 = 0.0\n",
      "Route_A_5 = 700.0\n",
      "Route_A_D = 0.0\n",
      "Route_B_1 = 200.0\n",
      "Route_B_2 = 900.0\n",
      "Route_B_3 = 1800.0\n",
      "Route_B_4 = 200.0\n",
      "Route_B_5 = 0.0\n",
      "Route_B_D = 900.0\n",
      "Total transportation cost =  8600.0\n"
     ]
    }
   ],
   "source": [
    "import pulp\n",
    "\n",
    "warehouses = [\"A\", \"B\"]\n",
    "supply = {\"A\": 1000, \"B\": 4000}\n",
    "\n",
    "bars = [\"1\", \"2\", \"3\", \"4\", \"5\", \"D\"]\n",
    "demand = {\"1\": 500, \"2\": 900, \"3\": 1800, \"4\": 200, \"5\": 700, \"D\": 900}\n",
    "\n",
    "costs = {\n",
    "    \"A\": {\"1\": 2, \"2\": 4, \"3\": 5, \"4\": 2, \"5\": 1, \"D\": 0},\n",
    "    \"B\": {\"1\": 3, \"2\": 1, \"3\": 3, \"4\": 2, \"5\": 3, \"D\": 0}\n",
    "}\n",
    "\n",
    "routes = [(wh, bar) for wh in warehouses for bar in bars]\n",
    "\n",
    "beer_dist = pulp.LpProblem(\"Beer_Distribution_Problem\", pulp.LpMinimize)\n",
    "\n",
    "# decision vars\n",
    "cases_supplied = pulp.LpVariable.dicts(\"Route\", (warehouses, bars), 0, None, pulp.LpInteger)\n",
    "\n",
    "# objective func\n",
    "beer_dist += pulp.lpSum([cases_supplied[wh][bar] * costs[wh][bar] for wh, bar in routes])\n",
    "\n",
    "# constraints\n",
    "\n",
    "# warehouses can't supply more than their capacities\n",
    "for wh in warehouses:\n",
    "    beer_dist += pulp.lpSum(cases_supplied[wh][bar] for bar in bars) <= supply[wh]\n",
    "\n",
    "# bars' demands must be fulfilled\n",
    "for bar in bars:\n",
    "    beer_dist += pulp.lpSum(cases_supplied[wh][bar] for wh in warehouses) == demand[bar]\n",
    "    \n",
    "beer_dist.solve()\n",
    "print(\"Status:\", pulp.LpStatus[beer_dist.status])\n",
    "\n",
    "for v in beer_dist.variables():\n",
    "    print(v.name, \"=\", v.varValue)\n",
    "    \n",
    "print(\"Total transportation cost = \", pulp.value(beer_dist.objective))"
   ]
  },
  {
   "cell_type": "markdown",
   "metadata": {},
   "source": [
    "# Two Stage Production Planning Problem\n",
    "\n",
    "Goal: Maximize profit\n",
    "\n",
    "GTC produces wrenches and pliers, subject to steel, machine capabilities (molding and assembly), labor, demand. Uncertain variables are expressed thru \"scenarios\"\n",
    "\n",
    "Stage 1: Determine how much steel to purchase\n",
    "\n",
    "Find out how much capacity is available and the revenue per unit of wrenches and pliers\n",
    "\n",
    "Stage 2: Determine how many wrenches and pliers to produce\n",
    "\n",
    "Four possible scenarios, each with equal probability"
   ]
  },
  {
   "cell_type": "markdown",
   "metadata": {},
   "source": [
    "## Data"
   ]
  },
  {
   "cell_type": "code",
   "execution_count": 2,
   "metadata": {},
   "outputs": [],
   "source": [
    "products = [\"wrenches\", \"pliers\"]\n",
    "price = [130, 100]\n",
    "steel = [1.5, 1]\n",
    "molding = [1, 1]\n",
    "assembly = [0.3, 0.5]\n",
    "cap_steel = 27\n",
    "cap_molding = 21\n",
    "LB = [0, 0]\n",
    "capacity_ub = [15, 16]\n",
    "steel_price = 58\n",
    "\n",
    "scenarios = [0, 1, 2, 3]\n",
    "p_scenario = [0.25, 0.25, 0.25, 0.25]\n",
    "wrench_earnings = [160, 160, 90, 90]\n",
    "plier_earnings = [100, 100, 100, 100]\n",
    "cap_assembly = [8, 10, 8, 10]\n",
    "\n",
    "production = [(j, i) for j in scenarios for i in products]\n",
    "price_scenario = [[wrench_earnings[j], plier_earnings[j]] for j in scenarios]\n",
    "price_items = [item for sublist in price_scenario for item in sublist]\n",
    "\n",
    "price_dict = dict(zip(production, price_items))\n",
    "capacity_dict = dict(zip(products, capacity_ub * 4))\n",
    "steel_dict = dict(zip(products, steel))\n",
    "molding_dict = dict(zip(products, molding))\n",
    "assembly_dict = dict(zip(products, assembly))"
   ]
  },
  {
   "cell_type": "markdown",
   "metadata": {},
   "source": [
    "## Problem Formulation"
   ]
  },
  {
   "cell_type": "code",
   "execution_count": 3,
   "metadata": {},
   "outputs": [],
   "source": [
    "prod_plan = pulp.LpProblem(\"Prod_Planning\", pulp.LpMaximize)"
   ]
  },
  {
   "cell_type": "markdown",
   "metadata": {},
   "source": [
    "### Decision variables"
   ]
  },
  {
   "cell_type": "markdown",
   "metadata": {},
   "source": [
    "`w_i` - Production of wrenches in scenario i\n",
    "\n",
    "`pl_i` - Production of pliers in scenario i\n",
    "\n",
    "`steel_purchased`"
   ]
  },
  {
   "cell_type": "code",
   "execution_count": 4,
   "metadata": {},
   "outputs": [
    {
     "data": {
      "text/plain": [
       "{0: {'wrenches': production_0_wrenches, 'pliers': production_0_pliers},\n",
       " 1: {'wrenches': production_1_wrenches, 'pliers': production_1_pliers},\n",
       " 2: {'wrenches': production_2_wrenches, 'pliers': production_2_pliers},\n",
       " 3: {'wrenches': production_3_wrenches, 'pliers': production_3_pliers}}"
      ]
     },
     "execution_count": 4,
     "metadata": {},
     "output_type": "execute_result"
    }
   ],
   "source": [
    "production_vars = pulp.LpVariable.dicts(\n",
    "    \"production\", (scenarios, products), 0, None, pulp.LpInteger\n",
    ")\n",
    "production_vars"
   ]
  },
  {
   "cell_type": "code",
   "execution_count": 5,
   "metadata": {},
   "outputs": [],
   "source": [
    "steel_purchased = pulp.LpVariable(\"steel_purchased\", 0, None)"
   ]
  },
  {
   "cell_type": "markdown",
   "metadata": {},
   "source": [
    "### Objective function\n",
    "Profit: Revenue - Expenses\n",
    "\n",
    "Expenses: `steel_purchased * steel_price`\n",
    "\n",
    "Revenue: `sum(0.25 * price[scenario][item] * production_of[scenario][item] for each scenario, item)`"
   ]
  },
  {
   "cell_type": "code",
   "execution_count": 6,
   "metadata": {},
   "outputs": [],
   "source": [
    "# Add obj func to problem\n",
    "\n",
    "prod_plan += pulp.lpSum([p_scenario[scenario] * price_dict[scenario, item] * production_vars[scenario][item]\n",
    "             for scenario, item in production]) - steel_price * steel_purchased"
   ]
  },
  {
   "cell_type": "markdown",
   "metadata": {},
   "source": [
    "### Constraints\n",
    "\n",
    "Don't exceed steel, molding, assembly capacities and the production upper bound"
   ]
  },
  {
   "cell_type": "code",
   "execution_count": 7,
   "metadata": {},
   "outputs": [],
   "source": [
    "for scenario in scenarios:\n",
    "    prod_plan += pulp.lpSum(\n",
    "        [steel_dict[product] * production_vars[scenario][product] for product in products]\n",
    "    ) <= steel_purchased\n",
    "    \n",
    "    prod_plan += pulp.lpSum(\n",
    "        [molding_dict[product] * production_vars[scenario][product] for product in products]\n",
    "    ) <= cap_molding\n",
    "    \n",
    "    prod_plan += pulp.lpSum(\n",
    "        [assembly_dict[product] * production_vars[scenario][product] for product in products]\n",
    "    ) <= cap_assembly[scenario]\n",
    "    \n",
    "    for product in products:\n",
    "        prod_plan += production_vars[scenario][product] <= capacity_dict[product]"
   ]
  },
  {
   "cell_type": "code",
   "execution_count": 8,
   "metadata": {},
   "outputs": [
    {
     "name": "stdout",
     "output_type": "stream",
     "text": [
      "Status: Optimal\n",
      "production_0_pliers = 5.0\n",
      "production_0_wrenches = 15.0\n",
      "production_1_pliers = 5.0\n",
      "production_1_wrenches = 15.0\n",
      "production_2_pliers = 8.0\n",
      "production_2_wrenches = 13.0\n",
      "production_3_pliers = 16.0\n",
      "production_3_wrenches = 5.0\n",
      "steel_purchased = 27.5\n",
      "Profit =  860.0\n"
     ]
    }
   ],
   "source": [
    "prod_plan.solve()\n",
    "print(\"Status:\", pulp.LpStatus[prod_plan.status])\n",
    "\n",
    "for v in prod_plan.variables():\n",
    "    print(v.name, \"=\", v.varValue)\n",
    "production = [v.varValue for v in prod_plan.variables()]\n",
    "\n",
    "print(\"Profit = \", pulp.value(prod_plan.objective))"
   ]
  }
 ],
 "metadata": {
  "kernelspec": {
   "display_name": "Python 3",
   "language": "python",
   "name": "python3"
  },
  "language_info": {
   "codemirror_mode": {
    "name": "ipython",
    "version": 3
   },
   "file_extension": ".py",
   "mimetype": "text/x-python",
   "name": "python",
   "nbconvert_exporter": "python",
   "pygments_lexer": "ipython3",
   "version": "3.8.5"
  }
 },
 "nbformat": 4,
 "nbformat_minor": 4
}
