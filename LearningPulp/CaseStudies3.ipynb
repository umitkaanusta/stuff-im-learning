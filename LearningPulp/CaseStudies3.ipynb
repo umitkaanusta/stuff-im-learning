{
 "cells": [
  {
   "cell_type": "markdown",
   "metadata": {},
   "source": [
    "**Several case studies from https://people.iee.ihu.gr/~vkostogl/en/Epixeirisiaki/Linear%20Programming_case%20studies_EN_29-5-2012.pdf**\n",
    "\n",
    "Many thanks to Prof. Vassilis Kostoglou"
   ]
  },
  {
   "cell_type": "markdown",
   "metadata": {},
   "source": [
    "# Case Study: Portfolio Selection\n",
    "- Select portfolio package from set of investments\n",
    "- Maximize expected return or minimize risk"
   ]
  },
  {
   "cell_type": "markdown",
   "metadata": {},
   "source": [
    "## Data"
   ]
  },
  {
   "cell_type": "markdown",
   "metadata": {},
   "source": [
    "Expected annual return rates of investments"
   ]
  },
  {
   "cell_type": "code",
   "execution_count": 1,
   "metadata": {},
   "outputs": [],
   "source": [
    "investments = [\"A\", \"B\", \"C\", \"D\", \"E\", \"Z\"]\n",
    "shares = [\"A\", \"B\", \"C\", \"D\"]\n",
    "manufacturing = [\"A\", \"B\"]\n",
    "food_beverage = [\"C\", \"D\"]\n",
    "mutual_funds = [\"E\", \"Z\"]\n",
    "\n",
    "ex_returns = {\n",
    "    \"A\": 15.4,  # percent\n",
    "    \"B\": 19.2,\n",
    "    \"C\": 18.7,\n",
    "    \"D\": 13.5,\n",
    "    \"E\": 17.8,\n",
    "    \"Z\": 16.3,\n",
    "}"
   ]
  },
  {
   "cell_type": "markdown",
   "metadata": {},
   "source": [
    "## Requirements\n",
    "- Total money = €90000\n",
    "- Amount in shares of a sector no larger than 50% of total available\n",
    "- Amount in shares with the larger return of a sector less or equal to 80% of sector’s total amount\n",
    "- Amount in manufacturing company Β less or equal to 10% of the whole share amount\n",
    "- Amount in mutual funds less or equal to 25% of the amount in manufacturing shares"
   ]
  },
  {
   "cell_type": "markdown",
   "metadata": {},
   "source": [
    "## Solution"
   ]
  },
  {
   "cell_type": "markdown",
   "metadata": {},
   "source": [
    "### Decision variables\n",
    "x_i: Amount invested in investment i"
   ]
  },
  {
   "cell_type": "code",
   "execution_count": 2,
   "metadata": {},
   "outputs": [],
   "source": [
    "import pulp\n",
    "\n",
    "prob = pulp.LpProblem(\"Portfolio_Selection\", pulp.LpMaximize)\n",
    "\n",
    "x1 = pulp.LpVariable(\"Amount1\", 0, 90000, pulp.LpInteger)\n",
    "x2 = pulp.LpVariable(\"Amount2\", 0, 90000, pulp.LpInteger)\n",
    "x3 = pulp.LpVariable(\"Amount3\", 0, 90000, pulp.LpInteger)\n",
    "x4 = pulp.LpVariable(\"Amount4\", 0, 90000, pulp.LpInteger)\n",
    "x5 = pulp.LpVariable(\"Amount5\", 0, 90000, pulp.LpInteger)\n",
    "x6 = pulp.LpVariable(\"Amount6\", 0, 90000, pulp.LpInteger)\n",
    "\n",
    "decision_vars = [x1, x2, x3, x4, x5, x6]"
   ]
  },
  {
   "cell_type": "markdown",
   "metadata": {},
   "source": [
    "### Objective function\n",
    "Maximize sum(x_i * return_i)"
   ]
  },
  {
   "cell_type": "code",
   "execution_count": 3,
   "metadata": {},
   "outputs": [],
   "source": [
    "prob += (x1 * ex_returns[\"A\"] / 100 + x2 * ex_returns[\"B\"] / 100 + x3 * ex_returns[\"C\"] / 100\n",
    "    + x4 * ex_returns[\"D\"] / 100 + x5 * ex_returns[\"E\"] / 100 + x6 * ex_returns[\"Z\"] / 100)"
   ]
  },
  {
   "cell_type": "markdown",
   "metadata": {},
   "source": [
    "### Constraints"
   ]
  },
  {
   "cell_type": "code",
   "execution_count": 4,
   "metadata": {},
   "outputs": [],
   "source": [
    "total_money = 90000\n",
    "prob += x1 + x2 + x3 + x4 + x5 + x6 == 90000\n",
    "\n",
    "# Amount in shares of a sector no larger than 50% of total available\n",
    "prob += x1 + x2 <= 45000\n",
    "prob += x3 + x4 <= 45000\n",
    "\n",
    "# Amount in shares with the larger return of a sector less or equal to 80% of sector’s total amount\n",
    "prob += x2 <= 0.80 * (x1 + x2) # Shares A and B\n",
    "prob += x3 <= 0.80 * (x3 + x4) # Shares C and D\n",
    "\n",
    "# Amount in manufacturing company Β less or equal to 10% of the whole share amount\n",
    "prob += x2 <= 9000\n",
    "\n",
    "# Amount in mutual funds less or equal to 25% of the amount in manufacturing shares\n",
    "prob += x4 + x5 <= 0.25 * (x1 + x2)"
   ]
  },
  {
   "cell_type": "markdown",
   "metadata": {},
   "source": [
    "### Problem solved"
   ]
  },
  {
   "cell_type": "code",
   "execution_count": 5,
   "metadata": {},
   "outputs": [
    {
     "name": "stdout",
     "output_type": "stream",
     "text": [
      "Status: Optimal\n",
      "Amount1 = 27000.0\n",
      "Amount2 = 9000.0\n",
      "Amount3 = 36000.0\n",
      "Amount4 = 9000.0\n",
      "Amount5 = 0.0\n",
      "Amount6 = 9000.0\n",
      "Money earned: 15300.0\n"
     ]
    }
   ],
   "source": [
    "prob.solve()\n",
    "\n",
    "print(\"Status:\", pulp.LpStatus[prob.status])\n",
    "\n",
    "for v in prob.variables():\n",
    "    print(v.name, \"=\", v.varValue)\n",
    "    \n",
    "print(\"Money earned:\", pulp.value(prob.objective))"
   ]
  },
  {
   "cell_type": "markdown",
   "metadata": {},
   "source": [
    "---"
   ]
  },
  {
   "cell_type": "markdown",
   "metadata": {},
   "source": [
    "# Case Study: Advertising Media Selection\n",
    "- Maximize total audience rate"
   ]
  },
  {
   "cell_type": "markdown",
   "metadata": {},
   "source": [
    "## Data\n",
    "\n",
    "For each time section, there's cost of one view and units of expected audience rate of one view"
   ]
  },
  {
   "cell_type": "code",
   "execution_count": 6,
   "metadata": {},
   "outputs": [],
   "source": [
    "media = {\n",
    "    \"Fri-D\": {\"cost\": 400, \"audience\": 5000},\n",
    "    \"Sat-D\": {\"cost\": 450, \"audience\": 5500},\n",
    "    \"Sun-D\": {\"cost\": 450, \"audience\": 5700},\n",
    "    \"Fri-N\": {\"cost\": 500, \"audience\": 7500},\n",
    "    \"Sat-N\": {\"cost\": 550, \"audience\": 8200},\n",
    "    \"Sun-N\": {\"cost\": 550, \"audience\": 8400},\n",
    "}\n",
    "\n",
    "periods = [\"Fri-D\", \"Sat-D\", \"Sun-D\", \"Fri-N\", \"Sat-N\", \"Sun-N\"]\n",
    "friday = [\"Fri-D\", \"Fri-N\"]\n",
    "saturday = [\"Sat-D\", \"Sat-N\"]\n",
    "sunday = [\"Sun-D\", \"Sun-N\"]\n",
    "day = [\"Fri-D\", \"Sat-D\", \"Sun-D\"]\n",
    "night = [\"Fri-N\", \"Sat-N\", \"Sun-N\"]"
   ]
  },
  {
   "cell_type": "markdown",
   "metadata": {},
   "source": [
    "## Requirements\n",
    "- Goal: Invest in different time zones to maximize the total audience rate\n",
    "- Total money = €45000\n",
    "- Max amount for Friday = €11000\n",
    "- Max amount for Saturday = €14400\n",
    "- Total day views: At least 20\n",
    "- Total night views: At least 50% of the total\n",
    "- Max views for each period: Each day 12, each night 18"
   ]
  },
  {
   "cell_type": "markdown",
   "metadata": {},
   "source": [
    "## Solution"
   ]
  },
  {
   "cell_type": "markdown",
   "metadata": {},
   "source": [
    "### Decision variables\n",
    "x_i: Number of views bought on period i"
   ]
  },
  {
   "cell_type": "code",
   "execution_count": 7,
   "metadata": {},
   "outputs": [],
   "source": [
    "prob2 = pulp.LpProblem(\"Advertising\", pulp.LpMaximize)\n",
    "\n",
    "views_fri_d = pulp.LpVariable(\"Views_Fri-D\", 0, 12, pulp.LpInteger)\n",
    "views_sat_d = pulp.LpVariable(\"Views_Sat-D\", 0, 12, pulp.LpInteger)\n",
    "views_sun_d = pulp.LpVariable(\"Views_Sun-D\", 0, 12, pulp.LpInteger)\n",
    "views_fri_n = pulp.LpVariable(\"Views_Fri-N\", 0, 18, pulp.LpInteger)\n",
    "views_sat_n = pulp.LpVariable(\"Views_Sat-N\", 0, 18, pulp.LpInteger)\n",
    "views_sun_n = pulp.LpVariable(\"Views_Sun-N\", 0, 18, pulp.LpInteger)\n",
    "\n",
    "decision_vars = [views_fri_d, views_sat_d, views_sun_d, views_fri_n, views_sat_n, views_sun_n]"
   ]
  },
  {
   "cell_type": "markdown",
   "metadata": {},
   "source": [
    "### Objective function\n",
    "Maximize sum(x_i * audience_i)"
   ]
  },
  {
   "cell_type": "code",
   "execution_count": 8,
   "metadata": {},
   "outputs": [],
   "source": [
    "prob2 += ((views_fri_d * media[\"Fri-D\"][\"audience\"]) + (views_sat_d * media[\"Sat-D\"][\"audience\"]) +\n",
    "        (views_sun_d * media[\"Sun-D\"][\"audience\"]) + (views_fri_n * media[\"Fri-N\"][\"audience\"]) +\n",
    "        (views_sat_n * media[\"Sat-N\"][\"audience\"]) + (views_sun_n * media[\"Sun-N\"][\"audience\"]))"
   ]
  },
  {
   "cell_type": "markdown",
   "metadata": {},
   "source": [
    "### Constraints"
   ]
  },
  {
   "cell_type": "code",
   "execution_count": 9,
   "metadata": {},
   "outputs": [],
   "source": [
    "# Total money = €45000\n",
    "total_money = 45000\n",
    "prob2 += ((views_fri_d * media[\"Fri-D\"][\"cost\"]) + (views_sat_d * media[\"Sat-D\"][\"cost\"]) +\n",
    "        (views_sun_d * media[\"Sun-D\"][\"cost\"]) + (views_fri_n * media[\"Fri-N\"][\"cost\"]) +\n",
    "        (views_sat_n * media[\"Sat-N\"][\"cost\"]) + (views_sun_n * media[\"Sun-N\"][\"cost\"])) <= 45000\n",
    "\n",
    "# Max amount for Friday = €11000\n",
    "prob2 += views_fri_d * media[\"Fri-D\"][\"cost\"] + views_fri_n * media[\"Fri-N\"][\"cost\"] <= 11000\n",
    "\n",
    "# Max amount for Saturday = €14400\n",
    "prob2 += views_sat_d * media[\"Sat-D\"][\"cost\"] + views_sat_n * media[\"Sat-N\"][\"cost\"] <= 14400\n",
    "\n",
    "# Total day views: At least 20\n",
    "prob2 += views_fri_d + views_sat_d + views_sun_d >= 20\n",
    "\n",
    "# Total night views: At least 50% of the total\n",
    "prob2 += views_fri_n + views_sat_n + views_sun_n >= 0.50 * (views_fri_n + views_sat_n + views_sun_n + \n",
    "                                                     views_fri_d + views_sat_d + views_sun_d)\n",
    "\n",
    "# Max views for each period: Each day 12, each night 18\n",
    "# Defined in decision variables"
   ]
  },
  {
   "cell_type": "markdown",
   "metadata": {},
   "source": [
    "### Problem solved"
   ]
  },
  {
   "cell_type": "code",
   "execution_count": 10,
   "metadata": {},
   "outputs": [
    {
     "name": "stdout",
     "output_type": "stream",
     "text": [
      "Status: Optimal\n",
      "Views_Fri_D = 5.0\n",
      "Views_Fri_N = 18.0\n",
      "Views_Sat_D = 10.0\n",
      "Views_Sat_N = 18.0\n",
      "Views_Sun_D = 12.0\n",
      "Views_Sun_N = 18.0\n",
      "Total audience: 582200.0\n",
      "Money spent: 40700.0\n"
     ]
    }
   ],
   "source": [
    "prob2.solve()\n",
    "\n",
    "print(\"Status:\", pulp.LpStatus[prob2.status])\n",
    "\n",
    "money_spent = 0\n",
    "\n",
    "for v in prob2.variables():\n",
    "    print(v.name, \"=\", v.varValue)\n",
    "    money_spent += v.varValue * media[v.name[-5:].replace(\"_\", \"-\")][\"cost\"]\n",
    "    \n",
    "print(\"Total audience:\", pulp.value(prob2.objective))\n",
    "print(\"Money spent:\", money_spent)"
   ]
  },
  {
   "cell_type": "markdown",
   "metadata": {},
   "source": [
    "---"
   ]
  },
  {
   "cell_type": "markdown",
   "metadata": {},
   "source": [
    "# Case Study: HR Management (Allocation)\n",
    "- Recruit seasonal staff\n",
    "- Allocate staff to shifts\n",
    "- Minimize total cost"
   ]
  },
  {
   "cell_type": "markdown",
   "metadata": {},
   "source": [
    "## Data and Requirements\n",
    "\n",
    "Time periods, which shifts each of them belong to, min number of employees to be present at each period\n",
    "\n",
    "Employee cost per day for each shift"
   ]
  },
  {
   "cell_type": "code",
   "execution_count": 11,
   "metadata": {},
   "outputs": [],
   "source": [
    "shift_costs = {\n",
    "    1: 230,\n",
    "    2: 220,\n",
    "    3: 225,\n",
    "    4: 240,\n",
    "    5: 260\n",
    "}\n",
    "\n",
    "periods = {\n",
    "    \"07-09\": {\"shifts\": [1], \"min_employees\": 35},\n",
    "    \"09-11\": {\"shifts\": [1, 2], \"min_employees\": 68},\n",
    "    \"11-13\": {\"shifts\": [1, 2], \"min_employees\": 60},\n",
    "    \"13-15\": {\"shifts\": [1, 2, 3], \"min_employees\": 57},\n",
    "    \"15-17\": {\"shifts\": [2, 3, 4], \"min_employees\": 65},\n",
    "    \"17-19\": {\"shifts\": [3, 4], \"min_employees\": 63},\n",
    "    \"19-21\": {\"shifts\": [3, 4], \"min_employees\": 72},\n",
    "    \"21-23\": {\"shifts\": [4], \"min_employees\": 33},\n",
    "    \"23-07\": {\"shifts\": [5], \"min_employees\": 12},\n",
    "}"
   ]
  },
  {
   "cell_type": "markdown",
   "metadata": {},
   "source": [
    "## Solution"
   ]
  },
  {
   "cell_type": "markdown",
   "metadata": {},
   "source": [
    "### Decision variables\n",
    "x_i: Number of people working at shift i"
   ]
  },
  {
   "cell_type": "code",
   "execution_count": 12,
   "metadata": {},
   "outputs": [],
   "source": [
    "prob3 = pulp.LpProblem(\"Allocation\", pulp.LpMinimize)\n",
    "\n",
    "x1 = pulp.LpVariable(\"People1\", 0, None, pulp.LpInteger)\n",
    "x2 = pulp.LpVariable(\"People2\", 0, None, pulp.LpInteger)\n",
    "x3 = pulp.LpVariable(\"People3\", 0, None, pulp.LpInteger)\n",
    "x4 = pulp.LpVariable(\"People4\", 0, None, pulp.LpInteger)\n",
    "x5 = pulp.LpVariable(\"People5\", 0, None, pulp.LpInteger)"
   ]
  },
  {
   "cell_type": "markdown",
   "metadata": {},
   "source": [
    "### Objective function\n",
    "Minimize sum(x_i * cost_i)"
   ]
  },
  {
   "cell_type": "code",
   "execution_count": 13,
   "metadata": {},
   "outputs": [],
   "source": [
    "prob3 += x1 * shift_costs[1] + x2 * shift_costs[2] + x3 * shift_costs[3] + x4 * shift_costs[4] + x5 * shift_costs[5]"
   ]
  },
  {
   "cell_type": "markdown",
   "metadata": {},
   "source": [
    "### Constraints\n",
    "Some redundant constraints are not written here"
   ]
  },
  {
   "cell_type": "code",
   "execution_count": 14,
   "metadata": {},
   "outputs": [],
   "source": [
    "prob3 += x1 >= 35\n",
    "prob3 += x1 + x2 >= 68\n",
    "prob3 += x1 + x2 + x3 >= 57\n",
    "prob3 += x2 + x3 + x4 >= 65\n",
    "prob3 += x3 + x4 >= 72\n",
    "prob3 += x4 >= 33\n",
    "prob3 += x5 >= 12"
   ]
  },
  {
   "cell_type": "markdown",
   "metadata": {},
   "source": [
    "### Problem solved"
   ]
  },
  {
   "cell_type": "code",
   "execution_count": 15,
   "metadata": {},
   "outputs": [
    {
     "name": "stdout",
     "output_type": "stream",
     "text": [
      "Status: Optimal\n",
      "People1 = 35.0\n",
      "People2 = 33.0\n",
      "People3 = 39.0\n",
      "People4 = 33.0\n",
      "People5 = 12.0\n",
      "Total cost: 35125.0\n"
     ]
    }
   ],
   "source": [
    "prob3.solve()\n",
    "\n",
    "print(\"Status:\", pulp.LpStatus[prob3.status])\n",
    "\n",
    "for v in prob3.variables():\n",
    "    print(v.name, \"=\", v.varValue)\n",
    "    \n",
    "print(\"Total cost:\", pulp.value(prob3.objective))"
   ]
  }
 ],
 "metadata": {
  "kernelspec": {
   "display_name": "Python 3",
   "language": "python",
   "name": "python3"
  },
  "language_info": {
   "codemirror_mode": {
    "name": "ipython",
    "version": 3
   },
   "file_extension": ".py",
   "mimetype": "text/x-python",
   "name": "python",
   "nbconvert_exporter": "python",
   "pygments_lexer": "ipython3",
   "version": "3.8.5"
  }
 },
 "nbformat": 4,
 "nbformat_minor": 4
}
