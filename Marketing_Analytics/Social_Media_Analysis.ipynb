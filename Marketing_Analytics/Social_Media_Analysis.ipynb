{
 "cells": [
  {
   "cell_type": "markdown",
   "metadata": {},
   "source": [
    "# Sentiment Analysis"
   ]
  },
  {
   "cell_type": "markdown",
   "metadata": {},
   "source": [
    "1. Count positive and negative words in the text\n",
    "2. Assess polarity of the whole text"
   ]
  },
  {
   "cell_type": "markdown",
   "metadata": {},
   "source": [
    "## Sentiment Analysis with Vader"
   ]
  },
  {
   "cell_type": "markdown",
   "metadata": {},
   "source": [
    "**Textblob**\n",
    "- Textblob returns polarity and subjectivity as floats\n",
    "- Textblob disregards words that it does not have any acquaintance\n",
    "\n",
    "\n",
    "**Vader**\n",
    "- Vader uses a list of lexical features \n",
    "- Returns probability of given sentence (Pos/Neg/Neutral)\n",
    "- Optimized for social media texts\n",
    "- Considers emojis and capitalization too"
   ]
  },
  {
   "cell_type": "code",
   "execution_count": 4,
   "metadata": {},
   "outputs": [
    {
     "data": {
      "text/plain": [
       "{'neg': 0.043, 'neu': 0.744, 'pos': 0.213, 'compound': 0.8723}"
      ]
     },
     "execution_count": 4,
     "metadata": {},
     "output_type": "execute_result"
    }
   ],
   "source": [
    "from nltk.sentiment.vader import SentimentIntensityAnalyzer\n",
    "\n",
    "sid = SentimentIntensityAnalyzer()\n",
    "tweet = \"\"\"4/ do people make bad decisions? absolutely. but can you really sit here and say they’re better off doing nothing? absolutely not. \n",
    "\n",
    "instead of judging people for wanting to invest and achieve financial security, let’s educate and provide accessible, easy to understand resources\"\"\"\n",
    "\n",
    "scores = sid.polarity_scores(tweet)\n",
    "scores"
   ]
  },
  {
   "cell_type": "markdown",
   "metadata": {},
   "source": [
    "compound = polarity score with range -1 to 1"
   ]
  }
 ],
 "metadata": {
  "kernelspec": {
   "display_name": "Python 3",
   "language": "python",
   "name": "python3"
  },
  "language_info": {
   "codemirror_mode": {
    "name": "ipython",
    "version": 3
   },
   "file_extension": ".py",
   "mimetype": "text/x-python",
   "name": "python",
   "nbconvert_exporter": "python",
   "pygments_lexer": "ipython3",
   "version": "3.8.5"
  }
 },
 "nbformat": 4,
 "nbformat_minor": 4
}
