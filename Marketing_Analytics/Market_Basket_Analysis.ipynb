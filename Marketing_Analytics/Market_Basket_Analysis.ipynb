{
 "cells": [
  {
   "cell_type": "markdown",
   "metadata": {},
   "source": [
    "# Market Basket Analysis\n",
    "\n",
    "- Construct association rules\n",
    "- Identify items purchased together"
   ]
  },
  {
   "cell_type": "markdown",
   "metadata": {},
   "source": [
    "## Association Rules\n",
    "- (Antecedent) => (Consequent)\n",
    "    - e.g (Fiction) => (Biography) means buying Fiction makes them buy Biography"
   ]
  },
  {
   "cell_type": "code",
   "execution_count": 1,
   "metadata": {},
   "outputs": [],
   "source": [
    "import pandas as pd\n",
    "\n",
    "books = pd.read_csv(\n",
    "    \"https://assets.datacamp.com/production/repositories/5654/datasets/1e5276e5a24493ec07b44fe99b46984f2ffa4488/bookstore_transactions.csv\"\n",
    ")"
   ]
  },
  {
   "cell_type": "code",
   "execution_count": 2,
   "metadata": {},
   "outputs": [
    {
     "data": {
      "text/html": [
       "<div>\n",
       "<style scoped>\n",
       "    .dataframe tbody tr th:only-of-type {\n",
       "        vertical-align: middle;\n",
       "    }\n",
       "\n",
       "    .dataframe tbody tr th {\n",
       "        vertical-align: top;\n",
       "    }\n",
       "\n",
       "    .dataframe thead th {\n",
       "        text-align: right;\n",
       "    }\n",
       "</style>\n",
       "<table border=\"1\" class=\"dataframe\">\n",
       "  <thead>\n",
       "    <tr style=\"text-align: right;\">\n",
       "      <th></th>\n",
       "      <th>Transaction</th>\n",
       "    </tr>\n",
       "  </thead>\n",
       "  <tbody>\n",
       "    <tr>\n",
       "      <th>0</th>\n",
       "      <td>History,Bookmark</td>\n",
       "    </tr>\n",
       "    <tr>\n",
       "      <th>1</th>\n",
       "      <td>History,Bookmark</td>\n",
       "    </tr>\n",
       "    <tr>\n",
       "      <th>2</th>\n",
       "      <td>Fiction,Bookmark</td>\n",
       "    </tr>\n",
       "    <tr>\n",
       "      <th>3</th>\n",
       "      <td>Biography,Bookmark</td>\n",
       "    </tr>\n",
       "    <tr>\n",
       "      <th>4</th>\n",
       "      <td>History,Bookmark</td>\n",
       "    </tr>\n",
       "  </tbody>\n",
       "</table>\n",
       "</div>"
      ],
      "text/plain": [
       "          Transaction\n",
       "0    History,Bookmark\n",
       "1    History,Bookmark\n",
       "2    Fiction,Bookmark\n",
       "3  Biography,Bookmark\n",
       "4    History,Bookmark"
      ]
     },
     "execution_count": 2,
     "metadata": {},
     "output_type": "execute_result"
    }
   ],
   "source": [
    "books.head()"
   ]
  },
  {
   "cell_type": "code",
   "execution_count": 3,
   "metadata": {},
   "outputs": [
    {
     "data": {
      "text/plain": [
       "[['History', 'Bookmark'],\n",
       " ['History', 'Bookmark'],\n",
       " ['Fiction', 'Bookmark'],\n",
       " ['Biography', 'Bookmark'],\n",
       " ['History', 'Bookmark'],\n",
       " ['Poetry', 'Bookmark'],\n",
       " ['Biography', 'Bookmark'],\n",
       " ['Poetry', 'Bookmark'],\n",
       " ['Biography', 'Bookmark'],\n",
       " ['Biography', 'Bookmark'],\n",
       " ['History', 'Bookmark'],\n",
       " ['Fiction', 'Bookmark'],\n",
       " ['History', 'Bookmark'],\n",
       " ['Biography', 'Bookmark'],\n",
       " ['Poetry', 'Bookmark'],\n",
       " ['Biography', 'Bookmark'],\n",
       " ['Fiction', 'Bookmark'],\n",
       " ['Biography', 'Bookmark'],\n",
       " ['Poetry', 'Bookmark'],\n",
       " ['History', 'Bookmark'],\n",
       " ['History', 'Bookmark'],\n",
       " ['Poetry', 'Bookmark'],\n",
       " ['Fiction', 'Bookmark'],\n",
       " ['History', 'Bookmark'],\n",
       " ['Biography', 'Bookmark'],\n",
       " ['Biography', 'Bookmark'],\n",
       " ['Fiction', 'Bookmark'],\n",
       " ['Biography', 'Bookmark'],\n",
       " ['History', 'Bookmark'],\n",
       " ['Fiction', 'Bookmark'],\n",
       " ['History', 'Bookmark'],\n",
       " ['History', 'Bookmark'],\n",
       " ['Biography', 'Bookmark'],\n",
       " ['Biography', 'Bookmark'],\n",
       " ['History', 'Bookmark'],\n",
       " ['History', 'Bookmark'],\n",
       " ['Biography', 'Bookmark'],\n",
       " ['Biography', 'Bookmark'],\n",
       " ['Fiction', 'Bookmark'],\n",
       " ['Fiction', 'Bookmark'],\n",
       " ['Biography', 'Bookmark'],\n",
       " ['Biography', 'Bookmark'],\n",
       " ['Biography', 'Bookmark'],\n",
       " ['Fiction', 'Bookmark'],\n",
       " ['History', 'Bookmark'],\n",
       " ['Biography', 'Bookmark'],\n",
       " ['History', 'Bookmark'],\n",
       " ['Biography', 'Bookmark'],\n",
       " ['Fiction', 'Bookmark'],\n",
       " ['History', 'Bookmark'],\n",
       " ['Fiction', 'Bookmark'],\n",
       " ['Fiction', 'Bookmark'],\n",
       " ['Biography', 'Bookmark'],\n",
       " ['Biography', 'Bookmark'],\n",
       " ['Fiction', 'Bookmark'],\n",
       " ['Poetry', 'Bookmark'],\n",
       " ['Biography', 'Bookmark'],\n",
       " ['Fiction', 'Bookmark'],\n",
       " ['Biography', 'Bookmark'],\n",
       " ['Biography', 'Bookmark'],\n",
       " ['Poetry', 'Bookmark'],\n",
       " ['History', 'Bookmark'],\n",
       " ['Fiction', 'Bookmark'],\n",
       " ['History', 'Bookmark'],\n",
       " ['Biography', 'Bookmark'],\n",
       " ['Fiction', 'Bookmark'],\n",
       " ['Biography', 'Bookmark'],\n",
       " ['Fiction', 'Bookmark'],\n",
       " ['Fiction', 'Bookmark'],\n",
       " ['History', 'Bookmark'],\n",
       " ['History', 'Bookmark'],\n",
       " ['Biography', 'Bookmark'],\n",
       " ['Biography', 'Bookmark'],\n",
       " ['Biography', 'Bookmark'],\n",
       " ['History', 'Bookmark'],\n",
       " ['Fiction', 'Bookmark'],\n",
       " ['Poetry', 'Bookmark'],\n",
       " ['Fiction', 'Bookmark'],\n",
       " ['Biography', 'Bookmark'],\n",
       " ['History', 'Bookmark'],\n",
       " ['Biography', 'Bookmark'],\n",
       " ['Biography', 'Bookmark'],\n",
       " ['Fiction', 'Bookmark'],\n",
       " ['Fiction', 'Bookmark'],\n",
       " ['Biography', 'Bookmark'],\n",
       " ['History', 'Bookmark'],\n",
       " ['Biography', 'Bookmark'],\n",
       " ['Fiction', 'Bookmark'],\n",
       " ['Biography', 'Bookmark'],\n",
       " ['Fiction', 'Bookmark'],\n",
       " ['Fiction', 'Bookmark'],\n",
       " ['Biography', 'Bookmark'],\n",
       " ['Biography', 'Bookmark'],\n",
       " ['History', 'Bookmark'],\n",
       " ['Biography', 'Bookmark'],\n",
       " ['Poetry', 'Bookmark'],\n",
       " ['History', 'Bookmark'],\n",
       " ['Biography', 'Bookmark'],\n",
       " ['Biography', 'Bookmark']]"
      ]
     },
     "execution_count": 3,
     "metadata": {},
     "output_type": "execute_result"
    }
   ],
   "source": [
    "# Convert strings to list\n",
    "txl = books[\"Transaction\"].apply(lambda x: x.split(\",\"))\n",
    "tx = list(txl)\n",
    "tx"
   ]
  },
  {
   "cell_type": "markdown",
   "metadata": {},
   "source": [
    "### Identifying Association Rules\n",
    "- Set of all possible rules is large\n",
    "- Most rules ain't useful\n",
    "- **Restrict the set of rules**"
   ]
  },
  {
   "cell_type": "code",
   "execution_count": 4,
   "metadata": {},
   "outputs": [
    {
     "name": "stdout",
     "output_type": "stream",
     "text": [
      "Counter({'Bookmark': 99, 'Biography': 40, 'History': 25, 'Fiction': 25, 'Poetry': 9})\n",
      "Num of categories: 5\n"
     ]
    }
   ],
   "source": [
    "# Get the number of genres\n",
    "from itertools import chain\n",
    "from collections import Counter\n",
    "\n",
    "flatten = list(chain.from_iterable(tx))\n",
    "categories = [*set(flatten)]\n",
    "print(Counter(flatten))\n",
    "print(\"Num of categories:\", len(categories))"
   ]
  },
  {
   "cell_type": "code",
   "execution_count": 5,
   "metadata": {},
   "outputs": [
    {
     "name": "stdout",
     "output_type": "stream",
     "text": [
      "[('Poetry', 'Bookmark'), ('Poetry', 'History'), ('Poetry', 'Fiction'), ('Poetry', 'Biography'), ('Bookmark', 'Poetry'), ('Bookmark', 'History'), ('Bookmark', 'Fiction'), ('Bookmark', 'Biography'), ('History', 'Poetry'), ('History', 'Bookmark'), ('History', 'Fiction'), ('History', 'Biography'), ('Fiction', 'Poetry'), ('Fiction', 'Bookmark'), ('Fiction', 'History'), ('Fiction', 'Biography'), ('Biography', 'Poetry'), ('Biography', 'Bookmark'), ('Biography', 'History'), ('Biography', 'Fiction')]\n",
      "Num of rules: 20\n"
     ]
    }
   ],
   "source": [
    "# Generating rules\n",
    "from itertools import permutations\n",
    "\n",
    "rules = list(permutations(categories, 2))\n",
    "print(rules)\n",
    "print(\"Num of rules:\", len(rules))"
   ]
  },
  {
   "cell_type": "markdown",
   "metadata": {},
   "source": [
    "## Computing different metrics"
   ]
  },
  {
   "cell_type": "markdown",
   "metadata": {},
   "source": [
    "### Support metric\n",
    "- Given a rule R\n",
    "- num of transactions with R / num of all transactions"
   ]
  },
  {
   "cell_type": "code",
   "execution_count": 6,
   "metadata": {},
   "outputs": [
    {
     "data": {
      "text/plain": [
       "0.25252525252525254"
      ]
     },
     "execution_count": 6,
     "metadata": {},
     "output_type": "execute_result"
    }
   ],
   "source": [
    "# Support metric for (\"Bookmark\", \"History\")\n",
    "tx = [tuple(li) for li in tx]  # replace lists with tuples to use Counter\n",
    "\n",
    "count_tx = Counter(tx)\n",
    "all_tx = len(tx)\n",
    "count_tx[(\"History\", \"Bookmark\")] / all_tx"
   ]
  },
  {
   "cell_type": "markdown",
   "metadata": {},
   "source": [
    "### Computing that metric with pandas & numpy"
   ]
  },
  {
   "cell_type": "code",
   "execution_count": 9,
   "metadata": {},
   "outputs": [],
   "source": [
    "from mlxtend.preprocessing import TransactionEncoder\n",
    "encoder = TransactionEncoder().fit(tx)\n",
    "\n",
    "# one-hot encode\n",
    "onehot = encoder.transform(tx)\n"
   ]
  },
  {
   "cell_type": "code",
   "execution_count": 11,
   "metadata": {},
   "outputs": [],
   "source": [
    "# convert OHE list-of-lists to DF\n",
    "df = pd.DataFrame(onehot, columns=encoder.columns_)"
   ]
  },
  {
   "cell_type": "code",
   "execution_count": 12,
   "metadata": {},
   "outputs": [
    {
     "data": {
      "text/html": [
       "<div>\n",
       "<style scoped>\n",
       "    .dataframe tbody tr th:only-of-type {\n",
       "        vertical-align: middle;\n",
       "    }\n",
       "\n",
       "    .dataframe tbody tr th {\n",
       "        vertical-align: top;\n",
       "    }\n",
       "\n",
       "    .dataframe thead th {\n",
       "        text-align: right;\n",
       "    }\n",
       "</style>\n",
       "<table border=\"1\" class=\"dataframe\">\n",
       "  <thead>\n",
       "    <tr style=\"text-align: right;\">\n",
       "      <th></th>\n",
       "      <th>Biography</th>\n",
       "      <th>Bookmark</th>\n",
       "      <th>Fiction</th>\n",
       "      <th>History</th>\n",
       "      <th>Poetry</th>\n",
       "    </tr>\n",
       "  </thead>\n",
       "  <tbody>\n",
       "    <tr>\n",
       "      <th>0</th>\n",
       "      <td>False</td>\n",
       "      <td>True</td>\n",
       "      <td>False</td>\n",
       "      <td>True</td>\n",
       "      <td>False</td>\n",
       "    </tr>\n",
       "    <tr>\n",
       "      <th>1</th>\n",
       "      <td>False</td>\n",
       "      <td>True</td>\n",
       "      <td>False</td>\n",
       "      <td>True</td>\n",
       "      <td>False</td>\n",
       "    </tr>\n",
       "    <tr>\n",
       "      <th>2</th>\n",
       "      <td>False</td>\n",
       "      <td>True</td>\n",
       "      <td>True</td>\n",
       "      <td>False</td>\n",
       "      <td>False</td>\n",
       "    </tr>\n",
       "    <tr>\n",
       "      <th>3</th>\n",
       "      <td>True</td>\n",
       "      <td>True</td>\n",
       "      <td>False</td>\n",
       "      <td>False</td>\n",
       "      <td>False</td>\n",
       "    </tr>\n",
       "    <tr>\n",
       "      <th>4</th>\n",
       "      <td>False</td>\n",
       "      <td>True</td>\n",
       "      <td>False</td>\n",
       "      <td>True</td>\n",
       "      <td>False</td>\n",
       "    </tr>\n",
       "  </tbody>\n",
       "</table>\n",
       "</div>"
      ],
      "text/plain": [
       "   Biography  Bookmark  Fiction  History  Poetry\n",
       "0      False      True    False     True   False\n",
       "1      False      True    False     True   False\n",
       "2      False      True     True    False   False\n",
       "3       True      True    False    False   False\n",
       "4      False      True    False     True   False"
      ]
     },
     "execution_count": 12,
     "metadata": {},
     "output_type": "execute_result"
    }
   ],
   "source": [
    "df.head()"
   ]
  },
  {
   "cell_type": "code",
   "execution_count": 28,
   "metadata": {},
   "outputs": [
    {
     "data": {
      "text/plain": [
       "Biography    0.404040\n",
       "Bookmark     1.000000\n",
       "Fiction      0.252525\n",
       "History      0.252525\n",
       "Poetry       0.090909\n",
       "dtype: float64"
      ]
     },
     "execution_count": 28,
     "metadata": {},
     "output_type": "execute_result"
    }
   ],
   "source": [
    "# Support for each single item\n",
    "\n",
    "df.mean()"
   ]
  },
  {
   "cell_type": "code",
   "execution_count": 33,
   "metadata": {},
   "outputs": [],
   "source": [
    "# Support for multiple items\n",
    "\n",
    "df[\"fiction+poetry\"] = np.logical_and(df[\"Fiction\"], df[\"Poetry\"])\n",
    "\n",
    "df[\"history+biography\"] = np.logical_and(df[\"History\"], df[\"Biography\"])\n",
    "\n",
    "df[\"history+bookmark\"] = np.logical_and(df[\"History\"], df[\"Bookmark\"])"
   ]
  },
  {
   "cell_type": "code",
   "execution_count": 34,
   "metadata": {},
   "outputs": [
    {
     "data": {
      "text/plain": [
       "Biography            0.404040\n",
       "Bookmark             1.000000\n",
       "Fiction              0.252525\n",
       "History              0.252525\n",
       "Poetry               0.090909\n",
       "fiction+poetry       0.000000\n",
       "history+biography    0.000000\n",
       "history+bookmark     0.252525\n",
       "dtype: float64"
      ]
     },
     "execution_count": 34,
     "metadata": {},
     "output_type": "execute_result"
    }
   ],
   "source": [
    "df.mean()"
   ]
  },
  {
   "cell_type": "markdown",
   "metadata": {},
   "source": [
    "### Confidence and Lift\n",
    "They **refine** the support metric\n",
    "\n",
    "#### When support is misleading\n",
    "\n",
    "| TID | Transactions |\n",
    "| --- | ------------ |\n",
    "| 1   | Coffee, Milk        \n",
    "| 2   | Bread, Milk, Orange \n",
    "| 3   | Bread, Milk\n",
    "| 4   | Bread, Milk, Sugar\n",
    "| 5   | Bread, Jam, Milk\n",
    "\n",
    "- Milk and Bread are purchased together, so Milk -> Bread\n",
    "- The rule above **is not informative for marketing**\n",
    "    - Milk and bread are both popular items, **coexistence does not necessarily imply association**"
   ]
  },
  {
   "cell_type": "markdown",
   "metadata": {},
   "source": [
    "### Confidence\n",
    "X => Y: Support(X and Y) / Support(X)\n",
    "\n",
    "**Shows likelihood of people buying Y, given they bought X**"
   ]
  },
  {
   "cell_type": "markdown",
   "metadata": {},
   "source": [
    "For the table above: \n",
    "\n",
    "Confidence(Milk, Coffee) = 0.2 / 1 = 0.2  \n",
    "Low likelihood of association: Milk => Coffee\n",
    "\n",
    "Confidence(Coffee, Milk) = 0.2 / 0.2 = 1  \n",
    "High likelihood of association: Coffee => Milk"
   ]
  },
  {
   "cell_type": "markdown",
   "metadata": {},
   "source": [
    "### Lift\n",
    "\n",
    "X => Y: Support(X and Y) / (Support(X) * Support(Y))\n",
    "\n",
    "**real X and Y / expected X and Y**\n",
    "\n",
    "**Lift < 1 means X and Y are paired less frequently than the random pairings**\n",
    "\n",
    "Expected = Condition where variables are independent\n",
    "\n",
    "Lift >= 1 is good"
   ]
  },
  {
   "cell_type": "markdown",
   "metadata": {},
   "source": [
    "For the table above:\n",
    "\n",
    "Lift(Coffee, Milk) = 0.2 / (0.2 * 1) = 1  \n",
    "Association exists but the demand is just \"sufficient\""
   ]
  },
  {
   "cell_type": "markdown",
   "metadata": {},
   "source": [
    "#### Case Study: Support, Confidence and Lift\n",
    "\n",
    "**Given:**\n",
    "- Support(Hunger Games, Harry Potter) = 0.12\n",
    "- Support(Hunger Games, Twilight) = 0.09\n",
    "- Support(Harry Potter, Twilight) = 0.14\n",
    "\n",
    "\n",
    "- Support(Harry Potter) = 0.477\n",
    "- Support(Twilight) = 0.256\n",
    "\n",
    "\n",
    "- Confidence(Potter, Twilight) = 0.29\n",
    "- Confidence(Twilight, Potter) = 0.55\n",
    "\n",
    "- Lift(Potter, Twilight) = 1.15"
   ]
  },
  {
   "cell_type": "markdown",
   "metadata": {},
   "source": [
    "**Inferences:**\n",
    "- Harry Potter is more popular than Twilight\n",
    "- Potter people mostly don't like Twilight but some Twilight people like Potter\n",
    "- Demand to buy Potter and Twilight together is stronger than expected\n",
    "\n",
    "Twilight => Potter"
   ]
  },
  {
   "cell_type": "markdown",
   "metadata": {},
   "source": [
    "### Leverage\n",
    "\n",
    "X => Y: Support(X and Y) - Support(X) * Support(Y)\n",
    "\n",
    "**real X and Y - expected X and Y**\n",
    "\n",
    "**Leverage > 0 means the association creates some surplus value**\n",
    "\n",
    "Leverage >= 0 is good\n",
    "\n",
    "Range is -1 to 1, while Lift's range is 0 to infinity"
   ]
  },
  {
   "cell_type": "markdown",
   "metadata": {},
   "source": [
    "For the table above:\n",
    "\n",
    "Leverage(Coffee, Milk) = 0.2 - 0.2 = 0  \n",
    "Coffee and Milk has no leverage, association exists but the demand is just sufficient"
   ]
  },
  {
   "cell_type": "markdown",
   "metadata": {},
   "source": [
    "### Conviction\n",
    "\n",
    "X => Y: (Support(X) * Support(~Y)) / Support(X and ~Y)  \n",
    "\n",
    "OR\n",
    "\n",
    "X => Y: Support(~Y) / (1 - Confidence(X, Y))\n",
    "\n",
    "Probability that X appears without Y if they were dependent with the actual frequency of the appearance of X without Y\n",
    "\n",
    "**Shows Y's dependence on X**\n",
    "\n",
    "**Conviction(Apple, Pear) = 1.01 means the rule Apple => Pear is incorrect 1% more often than expected (if variables were independent)**"
   ]
  },
  {
   "cell_type": "markdown",
   "metadata": {},
   "source": [
    "For the table above:\n",
    "\n",
    "Conviction(Coffee, Milk) = 0 / 0 = NaN  \n",
    "Conviction(Milk, Coffee) = 0.8 / 0.8 = 1\n",
    "\n",
    "Rule (Milk => Coffee) is incorrect %0 more often than expected "
   ]
  },
  {
   "cell_type": "markdown",
   "metadata": {},
   "source": [
    "#### Case Study: Conviction\n",
    "\n",
    "**Given:**\n",
    "- Conviction(Twilight, Potter) = 1.16\n",
    "- Conviction(Potter, Twilight) = 1.05\n",
    "\n",
    "\n",
    "**Inferences:**\n",
    "- Twilight => Potter is incorrect 16% more often, if variables were independent\n",
    "- Potter => Twilight is incorrect 5% more often, if variables were independent"
   ]
  },
  {
   "cell_type": "markdown",
   "metadata": {},
   "source": [
    "### Zhang's Metric - Association and Dissociation\n",
    "\n",
    "`(Conf(A, B) - Conf(A, ~B)) / max(Conf(A, B), Conf(~A, B))`\n",
    "\n",
    "- Range -1 to 1, **1 is perfect association and -1 is perfect dissociation**\n"
   ]
  },
  {
   "cell_type": "markdown",
   "metadata": {},
   "source": [
    "## Overview of MBA\n",
    "1. Generate large set of rules\n",
    "2. Filter those rules with metrics\n",
    "3. Apply intuition and common sense"
   ]
  }
 ],
 "metadata": {
  "kernelspec": {
   "display_name": "Python 3",
   "language": "python",
   "name": "python3"
  },
  "language_info": {
   "codemirror_mode": {
    "name": "ipython",
    "version": 3
   },
   "file_extension": ".py",
   "mimetype": "text/x-python",
   "name": "python",
   "nbconvert_exporter": "python",
   "pygments_lexer": "ipython3",
   "version": "3.8.5"
  }
 },
 "nbformat": 4,
 "nbformat_minor": 4
}
